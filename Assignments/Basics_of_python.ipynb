{
  "nbformat": 4,
  "nbformat_minor": 0,
  "metadata": {
    "colab": {
      "provenance": []
    },
    "kernelspec": {
      "name": "python3",
      "display_name": "Python 3"
    },
    "language_info": {
      "name": "python"
    }
  },
  "cells": [
    {
      "cell_type": "markdown",
      "source": [
        "Exercise 1: Prime Numbers\n",
        "Write a Python program that checks whether a given number is prime or not.\n",
        "A prime number is a natural number greater than 1 that has no positive divisors other than 1 and itself.'''"
      ],
      "metadata": {
        "id": "hm5lI174ZOdc"
      }
    },
    {
      "cell_type": "code",
      "execution_count": 8,
      "metadata": {
        "colab": {
          "base_uri": "https://localhost:8080/"
        },
        "id": "kVt6NQ24SwES",
        "outputId": "25ada5f3-46a1-48bc-d2a1-d6fbd821cfd6"
      },
      "outputs": [
        {
          "output_type": "stream",
          "name": "stdout",
          "text": [
            "Enter any number : 10\n",
            "10 is not a prime number\n"
          ]
        }
      ],
      "source": [
        "num = int(input(\"Enter any number : \"))\n",
        "if num > 1:\n",
        "  for i in range(2, (num//2) + 1):\n",
        "    if (num % i) == 0:\n",
        "        print(num, \"is not a prime number\")\n",
        "        break\n",
        "  else:\n",
        "      print(num, \"is a prime number\")\n",
        "else:\n",
        "  print(\"is not a prime number\")"
      ]
    },
    {
      "cell_type": "code",
      "source": [
        "num = int(input(\"Enter a number: \"))\n",
        "\n",
        "if num == 1:\n",
        "    print(num, \"is not a prime number\")\n",
        "elif num > 1:\n",
        "   for i in range(2,num):\n",
        "       if (num % i) == 0:\n",
        "           print(num,\"is not a prime number\")\n",
        "           break\n",
        "   else:\n",
        "       print(num,\"is a prime number\")\n",
        "else:\n",
        "   print(num,\"is not a prime number\")"
      ],
      "metadata": {
        "colab": {
          "base_uri": "https://localhost:8080/"
        },
        "id": "IYUKOBFKaONW",
        "outputId": "0d25f861-f0f5-4e79-c88e-f0a093e0432a"
      },
      "execution_count": 2,
      "outputs": [
        {
          "output_type": "stream",
          "name": "stdout",
          "text": [
            "Enter a number: 11\n",
            "11 is a prime number\n"
          ]
        }
      ]
    },
    {
      "cell_type": "markdown",
      "source": [
        "Exercise 2: Product of Random Numbers\n",
        "Develop a Python program that generates two random numbers and asks the user to enter the product of these numbers.\n",
        "The program should then check if the user's answer is correct and display an appropriate message."
      ],
      "metadata": {
        "id": "At3LRWvCZHI7"
      }
    },
    {
      "cell_type": "code",
      "source": [
        "import random\n",
        "\n",
        "print (random.randint(0, 6))"
      ],
      "metadata": {
        "colab": {
          "base_uri": "https://localhost:8080/"
        },
        "id": "hTa8v7pwb27V",
        "outputId": "d1cc0dfb-2126-4ac2-f944-de093911b255"
      },
      "execution_count": 9,
      "outputs": [
        {
          "output_type": "stream",
          "name": "stdout",
          "text": [
            "5\n"
          ]
        }
      ]
    },
    {
      "cell_type": "code",
      "source": [
        "import random\n",
        "\n",
        "NUM_RANDOM = 10\n",
        "MIN_RANDOM = 0\n",
        "MAX_RNDOM = 100\n",
        "\n",
        "for i in range (NUM_RANDOM):\n",
        "  print (random.randint(MIN_RANDOM,MAX_RNDOM))"
      ],
      "metadata": {
        "colab": {
          "base_uri": "https://localhost:8080/"
        },
        "id": "JpxLD3_kjHf5",
        "outputId": "43371c03-e6c7-4890-850d-95ebf3cf162c"
      },
      "execution_count": 10,
      "outputs": [
        {
          "output_type": "stream",
          "name": "stdout",
          "text": [
            "45\n",
            "36\n",
            "40\n",
            "92\n",
            "82\n",
            "12\n",
            "6\n",
            "94\n",
            "30\n",
            "97\n"
          ]
        }
      ]
    },
    {
      "cell_type": "code",
      "source": [
        "import random\n",
        "\n",
        "num1 = int(input('Enter a number:'))\n",
        "num2 = int(input('Enter second number:'))\n",
        "while True:\n",
        "  answer = int(input('Enter the product:'))\n",
        "  if answer == num1 * num2:\n",
        "    print('Correct answer, program ends')\n",
        "    break"
      ],
      "metadata": {
        "colab": {
          "base_uri": "https://localhost:8080/"
        },
        "id": "fbenHT95t6Cj",
        "outputId": "1e4a149b-753a-4e39-989a-997a06e6c365"
      },
      "execution_count": 15,
      "outputs": [
        {
          "output_type": "stream",
          "name": "stdout",
          "text": [
            "Enter a number:5\n",
            "Enter second number:5\n",
            "Enter the product:30\n",
            "Enter the product:5\n",
            "Enter the product:5\n",
            "Enter the product:25\n",
            "Correct answer, program ends\n"
          ]
        }
      ]
    },
    {
      "cell_type": "markdown",
      "source": [
        "Exercise 3: Squares of Even/Odd Numbers\n",
        "Create a Python script that prints the squares of all even or odd numbers within the range of 100 to 200.\n",
        "Choose either even or odd numbers and document your choice in the code."
      ],
      "metadata": {
        "id": "JxF73HmhY_vx"
      }
    },
    {
      "cell_type": "code",
      "source": [
        "for i in range (100, 201):\n",
        "  if i % 2 == 0:\n",
        "    print(f\"The even numbers Squares of {i} is {i*i}\")\n",
        "  else:\n",
        "    print(f\"The Odd numbers Squares of {i} is {i*i}\")"
      ],
      "metadata": {
        "colab": {
          "base_uri": "https://localhost:8080/"
        },
        "id": "QYzOt3l7yKJW",
        "outputId": "4c2489f2-59dc-4691-e669-a44c623a107a"
      },
      "execution_count": 17,
      "outputs": [
        {
          "output_type": "stream",
          "name": "stdout",
          "text": [
            "The even numbers Squares of 100 is 10000\n",
            "The Odd numbers Squares of 101 is 10201\n",
            "The even numbers Squares of 102 is 10404\n",
            "The Odd numbers Squares of 103 is 10609\n",
            "The even numbers Squares of 104 is 10816\n",
            "The Odd numbers Squares of 105 is 11025\n",
            "The even numbers Squares of 106 is 11236\n",
            "The Odd numbers Squares of 107 is 11449\n",
            "The even numbers Squares of 108 is 11664\n",
            "The Odd numbers Squares of 109 is 11881\n",
            "The even numbers Squares of 110 is 12100\n",
            "The Odd numbers Squares of 111 is 12321\n",
            "The even numbers Squares of 112 is 12544\n",
            "The Odd numbers Squares of 113 is 12769\n",
            "The even numbers Squares of 114 is 12996\n",
            "The Odd numbers Squares of 115 is 13225\n",
            "The even numbers Squares of 116 is 13456\n",
            "The Odd numbers Squares of 117 is 13689\n",
            "The even numbers Squares of 118 is 13924\n",
            "The Odd numbers Squares of 119 is 14161\n",
            "The even numbers Squares of 120 is 14400\n",
            "The Odd numbers Squares of 121 is 14641\n",
            "The even numbers Squares of 122 is 14884\n",
            "The Odd numbers Squares of 123 is 15129\n",
            "The even numbers Squares of 124 is 15376\n",
            "The Odd numbers Squares of 125 is 15625\n",
            "The even numbers Squares of 126 is 15876\n",
            "The Odd numbers Squares of 127 is 16129\n",
            "The even numbers Squares of 128 is 16384\n",
            "The Odd numbers Squares of 129 is 16641\n",
            "The even numbers Squares of 130 is 16900\n",
            "The Odd numbers Squares of 131 is 17161\n",
            "The even numbers Squares of 132 is 17424\n",
            "The Odd numbers Squares of 133 is 17689\n",
            "The even numbers Squares of 134 is 17956\n",
            "The Odd numbers Squares of 135 is 18225\n",
            "The even numbers Squares of 136 is 18496\n",
            "The Odd numbers Squares of 137 is 18769\n",
            "The even numbers Squares of 138 is 19044\n",
            "The Odd numbers Squares of 139 is 19321\n",
            "The even numbers Squares of 140 is 19600\n",
            "The Odd numbers Squares of 141 is 19881\n",
            "The even numbers Squares of 142 is 20164\n",
            "The Odd numbers Squares of 143 is 20449\n",
            "The even numbers Squares of 144 is 20736\n",
            "The Odd numbers Squares of 145 is 21025\n",
            "The even numbers Squares of 146 is 21316\n",
            "The Odd numbers Squares of 147 is 21609\n",
            "The even numbers Squares of 148 is 21904\n",
            "The Odd numbers Squares of 149 is 22201\n",
            "The even numbers Squares of 150 is 22500\n",
            "The Odd numbers Squares of 151 is 22801\n",
            "The even numbers Squares of 152 is 23104\n",
            "The Odd numbers Squares of 153 is 23409\n",
            "The even numbers Squares of 154 is 23716\n",
            "The Odd numbers Squares of 155 is 24025\n",
            "The even numbers Squares of 156 is 24336\n",
            "The Odd numbers Squares of 157 is 24649\n",
            "The even numbers Squares of 158 is 24964\n",
            "The Odd numbers Squares of 159 is 25281\n",
            "The even numbers Squares of 160 is 25600\n",
            "The Odd numbers Squares of 161 is 25921\n",
            "The even numbers Squares of 162 is 26244\n",
            "The Odd numbers Squares of 163 is 26569\n",
            "The even numbers Squares of 164 is 26896\n",
            "The Odd numbers Squares of 165 is 27225\n",
            "The even numbers Squares of 166 is 27556\n",
            "The Odd numbers Squares of 167 is 27889\n",
            "The even numbers Squares of 168 is 28224\n",
            "The Odd numbers Squares of 169 is 28561\n",
            "The even numbers Squares of 170 is 28900\n",
            "The Odd numbers Squares of 171 is 29241\n",
            "The even numbers Squares of 172 is 29584\n",
            "The Odd numbers Squares of 173 is 29929\n",
            "The even numbers Squares of 174 is 30276\n",
            "The Odd numbers Squares of 175 is 30625\n",
            "The even numbers Squares of 176 is 30976\n",
            "The Odd numbers Squares of 177 is 31329\n",
            "The even numbers Squares of 178 is 31684\n",
            "The Odd numbers Squares of 179 is 32041\n",
            "The even numbers Squares of 180 is 32400\n",
            "The Odd numbers Squares of 181 is 32761\n",
            "The even numbers Squares of 182 is 33124\n",
            "The Odd numbers Squares of 183 is 33489\n",
            "The even numbers Squares of 184 is 33856\n",
            "The Odd numbers Squares of 185 is 34225\n",
            "The even numbers Squares of 186 is 34596\n",
            "The Odd numbers Squares of 187 is 34969\n",
            "The even numbers Squares of 188 is 35344\n",
            "The Odd numbers Squares of 189 is 35721\n",
            "The even numbers Squares of 190 is 36100\n",
            "The Odd numbers Squares of 191 is 36481\n",
            "The even numbers Squares of 192 is 36864\n",
            "The Odd numbers Squares of 193 is 37249\n",
            "The even numbers Squares of 194 is 37636\n",
            "The Odd numbers Squares of 195 is 38025\n",
            "The even numbers Squares of 196 is 38416\n",
            "The Odd numbers Squares of 197 is 38809\n",
            "The even numbers Squares of 198 is 39204\n",
            "The Odd numbers Squares of 199 is 39601\n",
            "The even numbers Squares of 200 is 40000\n"
          ]
        }
      ]
    },
    {
      "cell_type": "code",
      "source": [
        "for i in range (100, 201):\n",
        "  if i % 2 == 0:\n",
        "    print(f\"The even numbers Squares of {i} is {i*i}\")\n",
        "  #else:\n",
        "   # print(f\"The Odd numbers Squares of {i} is {i*i}\")"
      ],
      "metadata": {
        "colab": {
          "base_uri": "https://localhost:8080/"
        },
        "id": "T65kryjZ03h1",
        "outputId": "a7aca31b-a7ea-419e-d5c2-7dbb0e7a90d4"
      },
      "execution_count": 19,
      "outputs": [
        {
          "output_type": "stream",
          "name": "stdout",
          "text": [
            "The even numbers Squares of 100 is 10000\n",
            "The even numbers Squares of 102 is 10404\n",
            "The even numbers Squares of 104 is 10816\n",
            "The even numbers Squares of 106 is 11236\n",
            "The even numbers Squares of 108 is 11664\n",
            "The even numbers Squares of 110 is 12100\n",
            "The even numbers Squares of 112 is 12544\n",
            "The even numbers Squares of 114 is 12996\n",
            "The even numbers Squares of 116 is 13456\n",
            "The even numbers Squares of 118 is 13924\n",
            "The even numbers Squares of 120 is 14400\n",
            "The even numbers Squares of 122 is 14884\n",
            "The even numbers Squares of 124 is 15376\n",
            "The even numbers Squares of 126 is 15876\n",
            "The even numbers Squares of 128 is 16384\n",
            "The even numbers Squares of 130 is 16900\n",
            "The even numbers Squares of 132 is 17424\n",
            "The even numbers Squares of 134 is 17956\n",
            "The even numbers Squares of 136 is 18496\n",
            "The even numbers Squares of 138 is 19044\n",
            "The even numbers Squares of 140 is 19600\n",
            "The even numbers Squares of 142 is 20164\n",
            "The even numbers Squares of 144 is 20736\n",
            "The even numbers Squares of 146 is 21316\n",
            "The even numbers Squares of 148 is 21904\n",
            "The even numbers Squares of 150 is 22500\n",
            "The even numbers Squares of 152 is 23104\n",
            "The even numbers Squares of 154 is 23716\n",
            "The even numbers Squares of 156 is 24336\n",
            "The even numbers Squares of 158 is 24964\n",
            "The even numbers Squares of 160 is 25600\n",
            "The even numbers Squares of 162 is 26244\n",
            "The even numbers Squares of 164 is 26896\n",
            "The even numbers Squares of 166 is 27556\n",
            "The even numbers Squares of 168 is 28224\n",
            "The even numbers Squares of 170 is 28900\n",
            "The even numbers Squares of 172 is 29584\n",
            "The even numbers Squares of 174 is 30276\n",
            "The even numbers Squares of 176 is 30976\n",
            "The even numbers Squares of 178 is 31684\n",
            "The even numbers Squares of 180 is 32400\n",
            "The even numbers Squares of 182 is 33124\n",
            "The even numbers Squares of 184 is 33856\n",
            "The even numbers Squares of 186 is 34596\n",
            "The even numbers Squares of 188 is 35344\n",
            "The even numbers Squares of 190 is 36100\n",
            "The even numbers Squares of 192 is 36864\n",
            "The even numbers Squares of 194 is 37636\n",
            "The even numbers Squares of 196 is 38416\n",
            "The even numbers Squares of 198 is 39204\n",
            "The even numbers Squares of 200 is 40000\n"
          ]
        }
      ]
    },
    {
      "cell_type": "markdown",
      "source": [
        "Exercise 4: Word counter\n",
        "write a program to count the number of words in a given text.\n",
        "example:\n",
        "input_text = \"This is a sample text. This text will be used to demonstrate the word counter.\""
      ],
      "metadata": {
        "id": "XxJjIZMvY2iP"
      }
    },
    {
      "cell_type": "code",
      "source": [
        "string = input(\"Enter Text: \")\n",
        "count1=0\n",
        "count2=0\n",
        "for i in string:\n",
        "      if(i.isdigit()):\n",
        "            count1=count1+1\n",
        "      count2=count2+1\n",
        "#print(\"The number of digits is:\")\n",
        "#print(count1)\n",
        "print(\"The number of characters is:\")\n",
        "print(count2)\n"
      ],
      "metadata": {
        "colab": {
          "base_uri": "https://localhost:8080/"
        },
        "id": "W4s3Hpfz5Fy-",
        "outputId": "ba862024-4825-4ce3-8e7d-bcf969359634"
      },
      "execution_count": 28,
      "outputs": [
        {
          "output_type": "stream",
          "name": "stdout",
          "text": [
            "Enter Text: This is a sample text.\n",
            "The number of characters is:\n",
            "22\n"
          ]
        }
      ]
    },
    {
      "cell_type": "code",
      "source": [
        "def word_count(str):\n",
        "    counts = dict()\n",
        "    words = str.split()\n",
        "    for word in words:\n",
        "        if word in counts:\n",
        "            counts[word] += 1\n",
        "        else:\n",
        "            counts[word] = 1\n",
        "    return counts\n",
        "print( word_count('This is a sample Text.'))"
      ],
      "metadata": {
        "colab": {
          "base_uri": "https://localhost:8080/"
        },
        "id": "gu3Q7dMzOynE",
        "outputId": "32330e00-8634-429e-b720-e6acde704829"
      },
      "execution_count": 23,
      "outputs": [
        {
          "output_type": "stream",
          "name": "stdout",
          "text": [
            "{'This': 1, 'is': 1, 'a': 1, 'sample': 1, 'Text.': 1}\n"
          ]
        }
      ]
    },
    {
      "cell_type": "markdown",
      "source": [
        "Exercise 5: Check for Palindrome\n",
        "Write a Python function called is_palindrome that takes a string as input and returns True if the string is a palindrome, and False otherwise.\n",
        "A palindrome is a word, phrase, number, or other sequence of characters that reads the same forward and backward, ignoring spaces, punctuation, and capitalization."
      ],
      "metadata": {
        "id": "IU_hBzhTYXPc"
      }
    },
    {
      "cell_type": "code",
      "source": [
        "def isPalindrome(i):\n",
        "    return i == i [:: -1]\n",
        "\n",
        "i = \"racecar\"\n",
        "ans = isPalindrome(i)\n",
        "\n",
        "if ans:\n",
        "    print(\"True\")\n",
        "else:\n",
        "    print(\"False\")"
      ],
      "metadata": {
        "colab": {
          "base_uri": "https://localhost:8080/"
        },
        "id": "cvgBRwvNStqv",
        "outputId": "f8d05124-d7b4-4eca-df37-b77cf6f10b11"
      },
      "execution_count": 30,
      "outputs": [
        {
          "output_type": "stream",
          "name": "stdout",
          "text": [
            "True\n"
          ]
        }
      ]
    },
    {
      "cell_type": "code",
      "source": [
        "def isPalindrome(string):\n",
        "  if (string == string [::-1]):\n",
        "    return (\"the string is a Palindrome\")\n",
        "  else:\n",
        "    return (\"the string is not a Palindrome\")\n",
        "string = input(\"Enter String: \")\n",
        "print(isPalindrome(string))"
      ],
      "metadata": {
        "colab": {
          "base_uri": "https://localhost:8080/"
        },
        "id": "_qguX8q9bYQb",
        "outputId": "be7a3ad5-49d9-4bcd-f1e0-40d3b0323785"
      },
      "execution_count": 31,
      "outputs": [
        {
          "output_type": "stream",
          "name": "stdout",
          "text": [
            "Enter String: racecar\n",
            "the string is a Palindrome\n"
          ]
        }
      ]
    }
  ]
}