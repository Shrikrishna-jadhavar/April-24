{
  "nbformat": 4,
  "nbformat_minor": 0,
  "metadata": {
    "colab": {
      "provenance": []
    },
    "kernelspec": {
      "name": "python3",
      "display_name": "Python 3"
    },
    "language_info": {
      "name": "python"
    }
  },
  "cells": [
    {
      "cell_type": "markdown",
      "source": [
        "1. State the Hypotheses :-\n",
        "\n",
        "H0 (Null Hypothesis) : μ = 4000\n",
        "\n",
        "H1 (Alternate Hypothesis): μ ≠ 4000 (Not equal means either μ > 4000 or μ < 4000 Hence it will be validated with two tailed test )\n",
        "\n",
        "σ = 125 (Population Standard Deviation)\n",
        "\n",
        "(α) = 5%"
      ],
      "metadata": {
        "id": "EEgbH2nMAouz"
      }
    },
    {
      "cell_type": "markdown",
      "source": [
        "2. Calculate the Test Statistic:\n",
        "\n",
        "Use the following formula to calculate the test statistic (t):\n",
        "\n",
        "where:\n",
        "\n",
        "xˉ = sample mean weekly cost (Rs. 3,050)\n",
        "\n",
        "μ = theoretical mean weekly cost according to the cost model (W = $1,000 + $5X for X = 600 units) = 4000\n",
        "\n",
        "σ = 5*25 units = 125 units\n",
        "\n",
        "n = sample size (25 restaurants)\n",
        "\n",
        "\n",
        "--> I will go with z-test.\n",
        "\n",
        "Calculate z using z-test formula as below:\n",
        "\n",
        "z = (x̄  - μ)/ (σ/√n)\n",
        "\n",
        "z = (3050 - 4000) / (125/√25)\n",
        "\n",
        "z = -38\n",
        "\n",
        "Then I will go with Two tail test."
      ],
      "metadata": {
        "id": "fVq7eH8qHqD-"
      }
    },
    {
      "cell_type": "markdown",
      "source": [
        "3. Determine the Critical Value:\n",
        "\n",
        "Using the alpha level of 5% (α = 0.05), determine the critical value from the standard normal (Z) distribution table.\n",
        "\n",
        "get z critical value from z table for α = 5%\n",
        "\n",
        "z critical values = (-1.96, +1.96)\n",
        "\n",
        "calculated z should be in between -1.96 < z < +1.96"
      ],
      "metadata": {
        "id": "WJXVR8vpbV1e"
      }
    },
    {
      "cell_type": "markdown",
      "source": [
        "4. Make a Decision:\n",
        "\n",
        "Compare the test statistic with the critical value to decide whether to reject the null hypothesis.\n",
        "\n",
        "-->   but calculated z (-38) < -1.96 which mean reject the null hypothesis"
      ],
      "metadata": {
        "id": "sASrng51eP2a"
      }
    },
    {
      "cell_type": "markdown",
      "source": [
        "5. Conclusion:\n",
        "\n",
        "Based on the decision in step 4, conclude whether there is strong evidence to support the restaurant owners' claim that the weekly operating costs are higher than the model suggests.\n",
        "\n",
        "-- > Conclusion there is strong evidence to support the restaurant owners' claim that the weekly operating costs are higher than the model suggests.\n",
        "\n"
      ],
      "metadata": {
        "id": "FvTQy08jfsP1"
      }
    },
    {
      "cell_type": "code",
      "execution_count": null,
      "metadata": {
        "id": "hSS8yXaeAa61"
      },
      "outputs": [],
      "source": []
    }
  ]
}