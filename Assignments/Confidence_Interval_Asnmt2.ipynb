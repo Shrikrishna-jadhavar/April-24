{
  "nbformat": 4,
  "nbformat_minor": 0,
  "metadata": {
    "colab": {
      "provenance": []
    },
    "kernelspec": {
      "name": "python3",
      "display_name": "Python 3"
    },
    "language_info": {
      "name": "python"
    }
  },
  "cells": [
    {
      "cell_type": "markdown",
      "source": [
        "**A total of 15 print-heads were randomly selected and tested until failure. The durability of each print-head (in millions of characters) was recorded as follows:\n",
        "1.13, 1.55, 1.43, 0.92, 1.25, 1.36, 1.32, 0.85, 1.07, 1.48, 1.20, 1.33, 1.18, 1.22, 1.29\n",
        "a. Build 99% Confidence Interval Using Sample Standard Deviation**"
      ],
      "metadata": {
        "id": "l-ZBZFFgy7-p"
      }
    },
    {
      "cell_type": "markdown",
      "source": [
        "To construct a 99% confidence interval for the mean durability of the print-heads, we can follow these steps:\n",
        "\n",
        "  Calculate the sample mean (xˉ):\n",
        "\n",
        "  Calculate the sample standard deviation (s):\n",
        "\n",
        "  Determine the degrees of freedom (df): df=n−1, where nn is the sample size.\n",
        "\n",
        "  Find the t-value for a 99% confidence interval: This value depends on the degrees of freedom and can be found in t-distribution tables.\n",
        "  \n",
        "  Calculate the margin of error (ME): ME=tα/2×s/(sqrt)n\n",
        "\n",
        "  Construct the confidence interval: xˉ± ME\n",
        "\n",
        "Let's go through these steps\n",
        "\n",
        "Sample Data: 1.13,1.55,1.43,0.92,1.25,1.36,1.32,0.85,1.07,1.48,1.20,1.33,1.18,1.22,1.29\n",
        "\n",
        "Calculate the sample mean (xˉ):    xˉ=∑xi/n\n",
        "\n",
        "Calculate the sample standard deviation (s):    s = ∑(xi−xˉ)2 / n−1\n",
        "\n",
        "Degrees of freedom (df): df=15−1=14\n",
        "\n",
        "Find the t-value for a 99% confidence interval with 14 degrees of freedom.\n",
        "\n",
        "Calculate the margin of error (ME):  ME = tα/2 × s/n\n",
        "\n",
        "Construct the confidence interval: (xˉ − ME, xˉ + ME)\n"
      ],
      "metadata": {
        "id": "LYiWgPhUun1U"
      }
    },
    {
      "cell_type": "code",
      "source": [
        "import numpy as np\n",
        "import scipy.stats as stats\n",
        "\n",
        "# Sample data\n",
        "data = [1.13, 1.55, 1.43, 0.92, 1.25, 1.36, 1.32, 0.85, 1.07, 1.48, 1.20, 1.33, 1.18, 1.22, 1.29]\n",
        "\n",
        "# Calculate sample mean and sample standard deviation\n",
        "mean = np.mean(data)\n",
        "std_dev = np.std(data, ddof=1)\n",
        "\n",
        "# Degrees of freedom\n",
        "n = len(data)\n",
        "df = n - 1\n",
        "\n",
        "# Find the t-value for 99% confidence interval\n",
        "confidence_level = 0.99\n",
        "alpha = 1 - confidence_level\n",
        "t_value = stats.t.ppf(1 - alpha/2, df)\n",
        "\n",
        "# Calculate the margin of error\n",
        "margin_of_error = t_value * (std_dev / np.sqrt(n))\n",
        "\n",
        "# Calculate the confidence interval\n",
        "confidence_interval = (mean - margin_of_error, mean + margin_of_error)\n",
        "\n",
        "mean, std_dev, t_value, margin_of_error, confidence_interval"
      ],
      "metadata": {
        "colab": {
          "base_uri": "https://localhost:8080/"
        },
        "id": "mL599nI1t4Mz",
        "outputId": "8cb87af1-a821-419c-c787-648d02ade65b"
      },
      "execution_count": 2,
      "outputs": [
        {
          "output_type": "execute_result",
          "data": {
            "text/plain": [
              "(1.2386666666666666,\n",
              " 0.19316412956959936,\n",
              " 2.97684273411266,\n",
              " 0.1484693282152996,\n",
              " (1.090197338451367, 1.3871359948819662))"
            ]
          },
          "metadata": {},
          "execution_count": 2
        }
      ]
    },
    {
      "cell_type": "markdown",
      "source": [
        " **Build 99% Confidence Interval Using Known Population Standard Deviation.**"
      ],
      "metadata": {
        "id": "OJfUVwlg07kn"
      }
    },
    {
      "cell_type": "markdown",
      "source": [
        "If the population standard deviation (σσ) is known, we use the z-distribution instead of the t-distribution to construct the confidence interval. Here are the steps to calculate the 99% confidence interval for the mean durability of the print-heads using the known population standard deviation:\n",
        "\n",
        "Steps to Calculate the Confidence Interval\n",
        "\n",
        "  Collect the Sample Data:\n",
        "     You have 15 data points representing the durability (in millions of characters) of the print-heads:\n",
        "     1.13,1.55,1.43,0.92,1.25,1.36,1.32,0.85,1.07,1.48,1.20,1.33,1.18,1.22,1.29\n",
        "    \n",
        "  Calculate the Sample Mean (xˉ):\n",
        "\n",
        "   The sample mean is the average of your data points:\n",
        "   xˉ = ∑xi/n = 1.13 + 1.55 + 1.43 + … + 1.29 / 15\n",
        "  \n",
        "  Determine the Z-Value for a 99% Confidence Interval:\n",
        "\n",
        "  For a 99% confidence interval, the z-value corresponding to the two-tailed critical value is approximately 2.576. This value can be found in z-tables or using statistical software.  \n",
        "\n",
        "Calculate the Margin of Error (ME):\n",
        "\n",
        " The margin of error is computed using the z-value, the population standard deviation (σσ), and the sample size:\n",
        " ME = zα/2 × σ / (sqrt)n\n",
        "\n",
        "Construct the Confidence Interval:\n",
        "  The confidence interval is then:   (xˉ − ME, xˉ + ME)\n",
        "\n",
        "\n",
        "Let's assume the population standard deviation (σ) is known to be 0.2. Now we will follow these steps to calculate the confidence interval.\n",
        "\n",
        "**Calculation:**\n",
        "\n",
        "Sample Data Mean (xˉ):\n",
        "xˉ = 1.13+1.55+1.43+0.92+1.25+1.36+1.32+0.85+1.07+1.48+1.20+1.33+1.18+1.22+1.29 / 15\n",
        "\n",
        "Determine the Z-Value:   2.576 for a 99% confidence level\n",
        "\n",
        "Calculate the Margin of Error (ME):\n",
        "ME= 2.576 × 0.2 / (sqrt)15\n",
        "\n",
        "\n",
        "Construct the Confidence Interval:  (xˉ − ME, xˉ + ME)\n",
        "\n",
        "Let's calculate the sample mean and the margin of error step by step.\n",
        "\n",
        "Calculate the Sample Mean (xˉ):\n",
        "\n",
        "xˉ=1.13+1.55+1.43+0.92+1.25+1.36+1.32+0.85+1.07+1.48+1.20+1.33+1.18+1.22+1.29 / 15\n",
        "\n",
        "Let's compute this manually first:\n",
        "\n",
        "∑xi=1.13+1.55+1.43+0.92+1.25+1.36+1.32+0.85+1.07+1.48+1.20+1.33+1.18+1.22+1.29=18.58\n",
        "\n",
        "xˉ = 18.58 / (sqrt)15 = 1.2387\n",
        "\n",
        "Calculate the Margin of Error (ME):\n",
        "\n",
        "ME = 2.576 × 0.2 /(sqrt)15 = 2.576 × 0.2 / 3.87298 ≈ 2.576 × 0.05165 ≈ 0.1331\n",
        "\n",
        "Construct the Confidence Interval:\n",
        "\n",
        "(xˉ−ME,xˉ+ME) = (1.2387−0.1331, 1.2387+0.1331) = (1.1056,1.3718)\n",
        "\n",
        "99% Confidence Interval\n",
        "\n",
        "The 99% confidence interval for the mean durability of the print-heads, assuming a known population standard deviation of 0.2, is:\n",
        "(1.1056,1.3718)\n",
        "\n"
      ],
      "metadata": {
        "id": "gJlsj1G13rs0"
      }
    },
    {
      "cell_type": "markdown",
      "source": [
        "**If it were known that the population standard deviation is 0.2 million characters, construct a 99% confidence interval for the mean number of characters printed before failure.**"
      ],
      "metadata": {
        "id": "TFGe5WeN-S5r"
      }
    },
    {
      "cell_type": "markdown",
      "source": [
        "**Calculation:**\n",
        "\n",
        "Sample Data Mean (xˉ):\n",
        "xˉ = 1.13+1.55+1.43+0.92+1.25+1.36+1.32+0.85+1.07+1.48+1.20+1.33+1.18+1.22+1.29 / 15\n",
        "\n",
        "Determine the Z-Value:   2.576 for a 99% confidence level\n",
        "\n",
        "Calculate the Margin of Error (ME):\n",
        "ME= 2.576 × 0.2 / (sqrt)15\n",
        "\n",
        "\n",
        "Construct the Confidence Interval:  (xˉ − ME, xˉ + ME)\n",
        "\n",
        "Let's calculate the sample mean and the margin of error step by step.\n",
        "\n",
        "Calculate the Sample Mean (xˉ):\n",
        "\n",
        "xˉ=1.13+1.55+1.43+0.92+1.25+1.36+1.32+0.85+1.07+1.48+1.20+1.33+1.18+1.22+1.29 / 15\n",
        "\n",
        "Let's compute this manually first:\n",
        "\n",
        "∑xi=1.13+1.55+1.43+0.92+1.25+1.36+1.32+0.85+1.07+1.48+1.20+1.33+1.18+1.22+1.29=18.58\n",
        "\n",
        "xˉ = 18.58 / (sqrt)15 = 1.2387\n",
        "\n",
        "Calculate the Margin of Error (ME):\n",
        "\n",
        "ME = 2.576 × 0.2 /(sqrt)15 = 2.576 × 0.2 / 3.87298 ≈ 2.576 × 0.05165 ≈ 0.1331\n",
        "\n",
        "Construct the Confidence Interval:\n",
        "\n",
        "(xˉ−ME,xˉ+ME) = (1.2387−0.1331, 1.2387+0.1331) = (1.1056,1.3718)\n",
        "\n",
        "99% Confidence Interval\n",
        "\n",
        "The 99% confidence interval for the mean durability of the print-heads, assuming a known population standard deviation of 0.2, is:\n",
        "(1.1056,1.3718)\n",
        "\n",
        "This means we are 99% confident that the true mean durability of the print-heads lies between 1.1056 and 1.3718 million characters."
      ],
      "metadata": {
        "id": "XH9RQg5-_osB"
      }
    }
  ]
}