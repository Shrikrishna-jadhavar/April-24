{
  "cells": [
    {
      "cell_type": "markdown",
      "metadata": {
        "id": "view-in-github",
        "colab_type": "text"
      },
      "source": [
        "<a href=\"https://colab.research.google.com/github/Shrikrishna-jadhavar/April-24/blob/main/Python_Concepts.ipynb\" target=\"_parent\"><img src=\"https://colab.research.google.com/assets/colab-badge.svg\" alt=\"Open In Colab\"/></a>"
      ]
    },
    {
      "cell_type": "markdown",
      "id": "bd5dcbd6",
      "metadata": {
        "id": "bd5dcbd6"
      },
      "source": [
        "# Variables\n",
        "- Variables acts as container space to store any data.\n",
        "- It helps us to assign a memory location to a value which can be called whenever we want that value.\n",
        "- Variables should always start with either letter or _.\n",
        "- Numbers cannot br added at start.\n",
        "- Special characters are not allowed in variables.\n",
        "    - If your variables name contains more than single word, join those words with _.\n",
        "    - Always give name which is meaningful.\n",
        "    - Python is case sensitive."
      ]
    },
    {
      "cell_type": "code",
      "execution_count": null,
      "id": "e014112d",
      "metadata": {
        "id": "e014112d",
        "outputId": "0b81dce0-01bd-48af-f476-2196c57b9e0e"
      },
      "outputs": [
        {
          "data": {
            "text/plain": [
              "49849864"
            ]
          },
          "execution_count": 5,
          "metadata": {},
          "output_type": "execute_result"
        }
      ],
      "source": [
        "a = 49849864\n",
        "a"
      ]
    },
    {
      "cell_type": "code",
      "execution_count": null,
      "id": "7caba021",
      "metadata": {
        "id": "7caba021",
        "outputId": "ea27e55c-6a7f-4221-d18f-9ec3113b6be3"
      },
      "outputs": [
        {
          "data": {
            "text/plain": [
              "345684"
            ]
          },
          "execution_count": 9,
          "metadata": {},
          "output_type": "execute_result"
        }
      ],
      "source": [
        "# 1b = 987981\n",
        "b1 = 345684\n",
        "b1"
      ]
    },
    {
      "cell_type": "code",
      "execution_count": null,
      "id": "0d460639",
      "metadata": {
        "id": "0d460639",
        "outputId": "d6de16a9-41b9-41dd-feca-04b697b287d5"
      },
      "outputs": [
        {
          "ename": "SyntaxError",
          "evalue": "invalid syntax (4192317503.py, line 1)",
          "output_type": "error",
          "traceback": [
            "\u001b[1;36m  Cell \u001b[1;32mIn[10], line 1\u001b[1;36m\u001b[0m\n\u001b[1;33m    $xyz = 876\u001b[0m\n\u001b[1;37m    ^\u001b[0m\n\u001b[1;31mSyntaxError\u001b[0m\u001b[1;31m:\u001b[0m invalid syntax\n"
          ]
        }
      ],
      "source": [
        "$xyz = 876"
      ]
    },
    {
      "cell_type": "code",
      "execution_count": null,
      "id": "39ec0b55",
      "metadata": {
        "id": "39ec0b55"
      },
      "outputs": [],
      "source": [
        "integer = 100\n",
        "continous = 45.2\n",
        "string = 'Python'\n",
        "logical = False"
      ]
    },
    {
      "cell_type": "code",
      "execution_count": null,
      "id": "5aaff6a2",
      "metadata": {
        "id": "5aaff6a2",
        "outputId": "461bcaf4-993d-4c3b-aec3-7b172292b8ff"
      },
      "outputs": [
        {
          "data": {
            "text/plain": [
              "45.2"
            ]
          },
          "execution_count": 15,
          "metadata": {},
          "output_type": "execute_result"
        }
      ],
      "source": [
        "integer\n",
        "continous"
      ]
    },
    {
      "cell_type": "code",
      "execution_count": null,
      "id": "060128b1",
      "metadata": {
        "id": "060128b1",
        "outputId": "481e6941-65d5-49e7-fae9-bb71f5ee22fe"
      },
      "outputs": [
        {
          "name": "stdout",
          "output_type": "stream",
          "text": [
            "100\n",
            "45.2\n",
            "Python\n",
            "False\n"
          ]
        }
      ],
      "source": [
        "print(integer)\n",
        "print(continous)\n",
        "print(string)\n",
        "print(logical)"
      ]
    },
    {
      "cell_type": "code",
      "execution_count": null,
      "id": "482812f5",
      "metadata": {
        "id": "482812f5",
        "outputId": "a8fd2b4a-5fe9-4aa7-b2e0-a0e0f5df729c"
      },
      "outputs": [
        {
          "data": {
            "text/plain": [
              "('Ankush', 'Ankush')"
            ]
          },
          "execution_count": 20,
          "metadata": {},
          "output_type": "execute_result"
        }
      ],
      "source": [
        "# first name = 'Ankush'  #Gives error\n",
        "# first-name = 'Ankush'\n",
        "firstname = 'Ankush'\n",
        "first_name = 'Ankush'\n",
        "\n",
        "first_name,firstname"
      ]
    },
    {
      "cell_type": "markdown",
      "id": "f7924606",
      "metadata": {
        "id": "f7924606"
      },
      "source": [
        "# Data Structures\n",
        "\n",
        "- Data structures act as container/storage space to store multiple values in one variable.\n",
        "- Python has 4 built in data structures.\n",
        "    - They are as follows:\n",
        "        - Lists\n",
        "        - Tuple\n",
        "        - Dictionary\n",
        "        - Sets"
      ]
    },
    {
      "cell_type": "code",
      "execution_count": null,
      "id": "61b21d91",
      "metadata": {
        "id": "61b21d91",
        "outputId": "4a361f12-0261-4d3d-a9b2-c0a295f46ed0"
      },
      "outputs": [
        {
          "data": {
            "text/plain": [
              "bool"
            ]
          },
          "execution_count": 26,
          "metadata": {},
          "output_type": "execute_result"
        }
      ],
      "source": [
        "a = True\n",
        "type(a)"
      ]
    },
    {
      "cell_type": "code",
      "execution_count": null,
      "id": "43f106d8",
      "metadata": {
        "id": "43f106d8",
        "outputId": "d6b40cd4-4c8b-4725-e96e-e4a2009fb1ea"
      },
      "outputs": [
        {
          "data": {
            "text/plain": [
              "list"
            ]
          },
          "execution_count": 22,
          "metadata": {},
          "output_type": "execute_result"
        }
      ],
      "source": [
        "#Lists\n",
        "lst = [10,10.2,'Python class',False]\n",
        "lst\n",
        "type(lst)"
      ]
    },
    {
      "cell_type": "code",
      "execution_count": null,
      "id": "b20214e8",
      "metadata": {
        "id": "b20214e8",
        "outputId": "2aad56f9-5efe-410e-bdc3-7c24e9576292"
      },
      "outputs": [
        {
          "data": {
            "text/plain": [
              "tuple"
            ]
          },
          "execution_count": 28,
          "metadata": {},
          "output_type": "execute_result"
        }
      ],
      "source": [
        "#Tuple\n",
        "\n",
        "t = (14,12,'Python',True,10.2)\n",
        "t\n",
        "type(t)"
      ]
    },
    {
      "cell_type": "code",
      "execution_count": null,
      "id": "2755b259",
      "metadata": {
        "id": "2755b259",
        "outputId": "1d8c0b6a-b723-4a07-a950-8e285d0347be"
      },
      "outputs": [
        {
          "data": {
            "text/plain": [
              "dict"
            ]
          },
          "execution_count": 30,
          "metadata": {},
          "output_type": "execute_result"
        }
      ],
      "source": [
        "#Dictionary\n",
        "\n",
        "dictionary = {'name':'Anit','age':52,'location':'Mumbai'}\n",
        "dictionary\n",
        "type(dictionary)"
      ]
    },
    {
      "cell_type": "code",
      "execution_count": null,
      "id": "55a7a0e4",
      "metadata": {
        "id": "55a7a0e4",
        "outputId": "665ed38d-97bf-4fa6-f75b-9ec22511e91f"
      },
      "outputs": [
        {
          "data": {
            "text/plain": [
              "{'name': ['ankit', 'suman', 'nikita'],\n",
              " 'age': [21, 23, 25],\n",
              " 'location': ['Mumbai', 'Pune', 'Goa']}"
            ]
          },
          "execution_count": 37,
          "metadata": {},
          "output_type": "execute_result"
        }
      ],
      "source": [
        "dictionary1 = {\n",
        "    'name': ['ankit','suman','nikita'],\n",
        "    'age' : [21,23,25],\n",
        "    'location' : ['Mumbai','Pune','Goa']\n",
        "}\n",
        "\n",
        "dictionary1"
      ]
    },
    {
      "cell_type": "code",
      "execution_count": null,
      "id": "8a8eb541",
      "metadata": {
        "id": "8a8eb541",
        "outputId": "63451b22-60cd-4028-edd5-bfd09f8a8ac4"
      },
      "outputs": [
        {
          "data": {
            "text/plain": [
              "set"
            ]
          },
          "execution_count": 36,
          "metadata": {},
          "output_type": "execute_result"
        }
      ],
      "source": [
        "a = {1,2,3,4,5,6}\n",
        "type(a)"
      ]
    },
    {
      "cell_type": "code",
      "execution_count": null,
      "id": "7b24d85a",
      "metadata": {
        "id": "7b24d85a",
        "outputId": "852616d6-ec0d-4a45-a116-923940fdf684"
      },
      "outputs": [
        {
          "data": {
            "text/plain": [
              "set"
            ]
          },
          "execution_count": 32,
          "metadata": {},
          "output_type": "execute_result"
        }
      ],
      "source": [
        "#Sets\n",
        "\n",
        "set1 = {10,20,133256.2,'Machine'}\n",
        "set1\n",
        "type(set1)"
      ]
    },
    {
      "cell_type": "markdown",
      "id": "eacdc4d1",
      "metadata": {
        "id": "eacdc4d1"
      },
      "source": [
        "# List functions"
      ]
    },
    {
      "cell_type": "code",
      "execution_count": null,
      "id": "cb9c73d5",
      "metadata": {
        "id": "cb9c73d5",
        "outputId": "85f8311d-c8be-4435-af76-b303313044f3"
      },
      "outputs": [
        {
          "data": {
            "text/plain": [
              "[10, 12, 1.3, 'Python', False]"
            ]
          },
          "execution_count": 1,
          "metadata": {},
          "output_type": "execute_result"
        }
      ],
      "source": [
        "lst = [10,12,1.3,'Python',False]\n",
        "lst"
      ]
    },
    {
      "cell_type": "code",
      "execution_count": null,
      "id": "3e3968a9",
      "metadata": {
        "id": "3e3968a9",
        "outputId": "a54a1522-e670-4b08-ff5c-b43d59443cd6"
      },
      "outputs": [
        {
          "data": {
            "text/plain": [
              "'Python'"
            ]
          },
          "execution_count": 39,
          "metadata": {},
          "output_type": "execute_result"
        }
      ],
      "source": [
        "lst[3]"
      ]
    },
    {
      "cell_type": "code",
      "execution_count": null,
      "id": "219fe2b6",
      "metadata": {
        "id": "219fe2b6",
        "outputId": "5500ca63-9252-427c-a142-d98eda47900a"
      },
      "outputs": [
        {
          "data": {
            "text/plain": [
              "False"
            ]
          },
          "execution_count": 40,
          "metadata": {},
          "output_type": "execute_result"
        }
      ],
      "source": [
        "lst[4]"
      ]
    },
    {
      "cell_type": "code",
      "execution_count": null,
      "id": "d5b74065",
      "metadata": {
        "id": "d5b74065"
      },
      "outputs": [],
      "source": [
        "#Add\n",
        "lst.append('Machine Learning')"
      ]
    },
    {
      "cell_type": "code",
      "execution_count": null,
      "id": "46a90ced",
      "metadata": {
        "id": "46a90ced",
        "outputId": "0615f87e-ba8b-4662-cb6c-4639c4179458"
      },
      "outputs": [
        {
          "data": {
            "text/plain": [
              "[10, 12, 1.3, 'Python', False, 'Machine Learning']"
            ]
          },
          "execution_count": 3,
          "metadata": {},
          "output_type": "execute_result"
        }
      ],
      "source": [
        "lst"
      ]
    },
    {
      "cell_type": "code",
      "execution_count": null,
      "id": "783f155d",
      "metadata": {
        "id": "783f155d",
        "outputId": "29d2f989-f4b8-438f-e18a-0dc788acff54"
      },
      "outputs": [
        {
          "ename": "TypeError",
          "evalue": "list.append() takes exactly one argument (2 given)",
          "output_type": "error",
          "traceback": [
            "\u001b[1;31m---------------------------------------------------------------------------\u001b[0m",
            "\u001b[1;31mTypeError\u001b[0m                                 Traceback (most recent call last)",
            "Cell \u001b[1;32mIn[4], line 1\u001b[0m\n\u001b[1;32m----> 1\u001b[0m lst\u001b[38;5;241m.\u001b[39mappend(\u001b[38;5;241m41\u001b[39m,\u001b[38;5;241m45\u001b[39m)\n",
            "\u001b[1;31mTypeError\u001b[0m: list.append() takes exactly one argument (2 given)"
          ]
        }
      ],
      "source": [
        "lst.append(41,45)"
      ]
    },
    {
      "cell_type": "code",
      "execution_count": null,
      "id": "d1c9f70c",
      "metadata": {
        "id": "d1c9f70c",
        "outputId": "7731daff-5540-4c2e-a3b0-ff5a37a2197f"
      },
      "outputs": [
        {
          "data": {
            "text/plain": [
              "[10, 12, 1.3, 'Python', False, 'Machine Learning']"
            ]
          },
          "execution_count": 5,
          "metadata": {},
          "output_type": "execute_result"
        }
      ],
      "source": [
        "lst"
      ]
    },
    {
      "cell_type": "code",
      "execution_count": null,
      "id": "5b46a26b",
      "metadata": {
        "id": "5b46a26b"
      },
      "outputs": [],
      "source": [
        "lst.insert(2,'Deep learning')"
      ]
    },
    {
      "cell_type": "code",
      "execution_count": null,
      "id": "6431bc39",
      "metadata": {
        "id": "6431bc39",
        "outputId": "8bcd2afd-c64a-4095-b208-cb7afd141600"
      },
      "outputs": [
        {
          "data": {
            "text/plain": [
              "[10, 12, 'Deep learning', 1.3, 'Python', False, 'Machine Learning']"
            ]
          },
          "execution_count": 7,
          "metadata": {},
          "output_type": "execute_result"
        }
      ],
      "source": [
        "lst"
      ]
    },
    {
      "cell_type": "code",
      "execution_count": null,
      "id": "6b3541cc",
      "metadata": {
        "id": "6b3541cc"
      },
      "outputs": [],
      "source": [
        "lst.extend([100,500,'Stats'])"
      ]
    },
    {
      "cell_type": "code",
      "execution_count": null,
      "id": "4dfb79fd",
      "metadata": {
        "id": "4dfb79fd",
        "outputId": "8b636008-7564-4f4a-b9e1-bf9e17cd552b"
      },
      "outputs": [
        {
          "data": {
            "text/plain": [
              "[10,\n",
              " 12,\n",
              " 'Deep learning',\n",
              " 1.3,\n",
              " 'Python',\n",
              " False,\n",
              " 'Machine Learning',\n",
              " 100,\n",
              " 500,\n",
              " 'Stats']"
            ]
          },
          "execution_count": 10,
          "metadata": {},
          "output_type": "execute_result"
        }
      ],
      "source": [
        "lst"
      ]
    },
    {
      "cell_type": "code",
      "execution_count": null,
      "id": "4c8955e1",
      "metadata": {
        "id": "4c8955e1"
      },
      "outputs": [],
      "source": [
        "#Remove"
      ]
    },
    {
      "cell_type": "code",
      "execution_count": null,
      "id": "5f9ea9e3",
      "metadata": {
        "id": "5f9ea9e3",
        "outputId": "8bca4ce7-f4a4-4ea6-d51f-869993d0b7e5"
      },
      "outputs": [
        {
          "data": {
            "text/plain": [
              "[10,\n",
              " 12,\n",
              " 'Deep learning',\n",
              " 1.3,\n",
              " 'Python',\n",
              " False,\n",
              " 'Machine Learning',\n",
              " 100,\n",
              " 500,\n",
              " 'Stats']"
            ]
          },
          "execution_count": 12,
          "metadata": {},
          "output_type": "execute_result"
        }
      ],
      "source": [
        "lst"
      ]
    },
    {
      "cell_type": "code",
      "execution_count": null,
      "id": "ebf5ccc7",
      "metadata": {
        "id": "ebf5ccc7",
        "outputId": "ea26be71-9893-4feb-e012-24bab7f0fb7e"
      },
      "outputs": [
        {
          "data": {
            "text/plain": [
              "'Stats'"
            ]
          },
          "execution_count": 13,
          "metadata": {},
          "output_type": "execute_result"
        }
      ],
      "source": [
        "lst.pop()"
      ]
    },
    {
      "cell_type": "code",
      "execution_count": null,
      "id": "4daaf098",
      "metadata": {
        "id": "4daaf098",
        "outputId": "966b9dcd-ad9a-4987-c05d-9bc7a2853939"
      },
      "outputs": [
        {
          "data": {
            "text/plain": [
              "[10, 12, 'Deep learning', 1.3, 'Python', False, 'Machine Learning', 100, 500]"
            ]
          },
          "execution_count": 14,
          "metadata": {},
          "output_type": "execute_result"
        }
      ],
      "source": [
        "lst"
      ]
    },
    {
      "cell_type": "code",
      "execution_count": null,
      "id": "eeb3f178",
      "metadata": {
        "id": "eeb3f178",
        "outputId": "b1fd08a6-f65a-42b0-a2fa-fee2980364e8"
      },
      "outputs": [
        {
          "data": {
            "text/plain": [
              "10"
            ]
          },
          "execution_count": 15,
          "metadata": {},
          "output_type": "execute_result"
        }
      ],
      "source": [
        "lst.pop(0)"
      ]
    },
    {
      "cell_type": "code",
      "execution_count": null,
      "id": "53f2ab22",
      "metadata": {
        "id": "53f2ab22",
        "outputId": "12182586-58eb-48ed-9d49-f8b258b297d1"
      },
      "outputs": [
        {
          "data": {
            "text/plain": [
              "[12, 'Deep learning', 1.3, 'Python', False, 'Machine Learning', 100, 500]"
            ]
          },
          "execution_count": 16,
          "metadata": {},
          "output_type": "execute_result"
        }
      ],
      "source": [
        "lst"
      ]
    },
    {
      "cell_type": "code",
      "execution_count": null,
      "id": "15110189",
      "metadata": {
        "id": "15110189"
      },
      "outputs": [],
      "source": [
        "lst.remove(1.3)"
      ]
    },
    {
      "cell_type": "code",
      "execution_count": null,
      "id": "c27938d2",
      "metadata": {
        "id": "c27938d2",
        "outputId": "4d978077-08b3-4818-b9ee-c154266f52ee"
      },
      "outputs": [
        {
          "data": {
            "text/plain": [
              "[12, 'Deep learning', 'Python', False, 'Machine Learning', 100, 500]"
            ]
          },
          "execution_count": 18,
          "metadata": {},
          "output_type": "execute_result"
        }
      ],
      "source": [
        "lst"
      ]
    },
    {
      "cell_type": "code",
      "execution_count": null,
      "id": "2ce8b5ee",
      "metadata": {
        "id": "2ce8b5ee"
      },
      "outputs": [],
      "source": [
        "#Replace"
      ]
    },
    {
      "cell_type": "code",
      "execution_count": null,
      "id": "2e804954",
      "metadata": {
        "id": "2e804954",
        "outputId": "ed10ac89-5452-4e8d-daf4-bf1960201acf"
      },
      "outputs": [
        {
          "data": {
            "text/plain": [
              "[12, 'Deep learning', 'Python', False, 'Machine Learning', 100, 500]"
            ]
          },
          "execution_count": 21,
          "metadata": {},
          "output_type": "execute_result"
        }
      ],
      "source": [
        "lst"
      ]
    },
    {
      "cell_type": "code",
      "execution_count": null,
      "id": "e1b0a96f",
      "metadata": {
        "id": "e1b0a96f"
      },
      "outputs": [],
      "source": [
        "lst[1] = 5000"
      ]
    },
    {
      "cell_type": "code",
      "execution_count": null,
      "id": "59a34b96",
      "metadata": {
        "id": "59a34b96",
        "outputId": "7e2e91a4-89d1-45b6-a4da-3969041af9cc"
      },
      "outputs": [
        {
          "data": {
            "text/plain": [
              "[12, 5000, 'Python', False, 'Machine Learning', 100, 500]"
            ]
          },
          "execution_count": 24,
          "metadata": {},
          "output_type": "execute_result"
        }
      ],
      "source": [
        "lst"
      ]
    },
    {
      "cell_type": "code",
      "execution_count": null,
      "id": "ae06ef7b",
      "metadata": {
        "id": "ae06ef7b",
        "outputId": "864e2d39-d618-451b-b930-1836fba8ff5a"
      },
      "outputs": [
        {
          "data": {
            "text/plain": [
              "5"
            ]
          },
          "execution_count": 25,
          "metadata": {},
          "output_type": "execute_result"
        }
      ],
      "source": [
        "lst.index(100)"
      ]
    },
    {
      "cell_type": "markdown",
      "id": "b140965c",
      "metadata": {
        "id": "b140965c"
      },
      "source": [
        "# Conditional Statements\n",
        "\n",
        "- In programming, when we need to get output based on certain conditions, to specify those conditions, we make use of conditional statements.\n",
        "- In python, there are 3 conditional statements are there:\n",
        "    - if\n",
        "    - elif\n",
        "    - else"
      ]
    },
    {
      "cell_type": "code",
      "execution_count": null,
      "id": "6354c4a2",
      "metadata": {
        "id": "6354c4a2",
        "outputId": "f584b266-b973-48cb-b3e1-d81558ef77a6"
      },
      "outputs": [
        {
          "data": {
            "text/plain": [
              "True"
            ]
          },
          "execution_count": 27,
          "metadata": {},
          "output_type": "execute_result"
        }
      ],
      "source": [
        "a = 10\n",
        "b = 10\n",
        "\n",
        "a == b"
      ]
    },
    {
      "cell_type": "code",
      "execution_count": null,
      "id": "ecfddbdc",
      "metadata": {
        "id": "ecfddbdc",
        "outputId": "f92edb2f-540b-4c1f-91ac-7da08df27e91"
      },
      "outputs": [
        {
          "name": "stdout",
          "output_type": "stream",
          "text": [
            "Access given\n"
          ]
        }
      ],
      "source": [
        "#if\n",
        "\n",
        "password = 1010\n",
        "\n",
        "if password == 1010:\n",
        "    print('Access given')"
      ]
    },
    {
      "cell_type": "code",
      "execution_count": null,
      "id": "1a8396e5",
      "metadata": {
        "id": "1a8396e5"
      },
      "outputs": [],
      "source": [
        "#else\n",
        "\n",
        "password = 1011\n",
        "\n",
        "if password == 1010:\n",
        "    print('Access given')"
      ]
    },
    {
      "cell_type": "code",
      "execution_count": null,
      "id": "9873c423",
      "metadata": {
        "id": "9873c423",
        "outputId": "54f81e81-cb3b-4f1f-c797-2d88e0d5a7ef"
      },
      "outputs": [
        {
          "name": "stdout",
          "output_type": "stream",
          "text": [
            "Access given\n"
          ]
        }
      ],
      "source": [
        "password = 1010\n",
        "\n",
        "if password == 1010:\n",
        "    print('Access given')\n",
        "else:\n",
        "    print('Try again')"
      ]
    },
    {
      "cell_type": "code",
      "execution_count": null,
      "id": "9bad48f4",
      "metadata": {
        "id": "9bad48f4",
        "outputId": "2968cea0-7cc2-471e-bfb4-ed44acb6c3f7"
      },
      "outputs": [
        {
          "name": "stdout",
          "output_type": "stream",
          "text": [
            "Enter your age: 7\n",
            "$7\n"
          ]
        }
      ],
      "source": [
        "#Elif\n",
        "\n",
        "#age < 5 : ticket price $2\n",
        "#age < 18 : ticket price $7\n",
        "#age < 60 : ticket price $25\n",
        "#age > 60 :ticket price $15\n",
        "\n",
        "age = int(input('Enter your age: '))\n",
        "\n",
        "if age < 5:\n",
        "    print('$2')\n",
        "elif age < 18:\n",
        "    print('$7')\n",
        "elif age < 60:\n",
        "    print('$25')\n",
        "else:\n",
        "    print('$15')"
      ]
    },
    {
      "cell_type": "code",
      "execution_count": null,
      "id": "02ece633",
      "metadata": {
        "id": "02ece633",
        "outputId": "d1388115-95e3-4e4c-a746-405dbd4fbc3c"
      },
      "outputs": [
        {
          "data": {
            "text/plain": [
              "int"
            ]
          },
          "execution_count": 46,
          "metadata": {},
          "output_type": "execute_result"
        }
      ],
      "source": [
        "xyz = '96'\n",
        "\n",
        "abc = bool(xyz)\n",
        "type(abc)"
      ]
    },
    {
      "cell_type": "code",
      "execution_count": null,
      "id": "98ec88c8",
      "metadata": {
        "id": "98ec88c8",
        "outputId": "9b306036-edee-4305-88d7-a07f0d788f1c"
      },
      "outputs": [
        {
          "name": "stdout",
          "output_type": "stream",
          "text": [
            "75\n"
          ]
        }
      ],
      "source": [
        "age = int(input())"
      ]
    },
    {
      "cell_type": "code",
      "execution_count": null,
      "id": "7c5e9ce5",
      "metadata": {
        "id": "7c5e9ce5",
        "outputId": "d33ff904-3eba-407a-e424-e91261f57ea0"
      },
      "outputs": [
        {
          "data": {
            "text/plain": [
              "int"
            ]
          },
          "execution_count": 48,
          "metadata": {},
          "output_type": "execute_result"
        }
      ],
      "source": [
        "age\n",
        "type(age)"
      ]
    },
    {
      "cell_type": "code",
      "execution_count": null,
      "id": "96a29165",
      "metadata": {
        "id": "96a29165",
        "outputId": "29e05a14-a7e4-464a-b35b-232111359387"
      },
      "outputs": [
        {
          "ename": "TypeError",
          "evalue": "'>' not supported between instances of 'str' and 'int'",
          "output_type": "error",
          "traceback": [
            "\u001b[1;31m---------------------------------------------------------------------------\u001b[0m",
            "\u001b[1;31mTypeError\u001b[0m                                 Traceback (most recent call last)",
            "Cell \u001b[1;32mIn[44], line 1\u001b[0m\n\u001b[1;32m----> 1\u001b[0m age \u001b[38;5;241m>\u001b[39m \u001b[38;5;241m60\u001b[39m\n",
            "\u001b[1;31mTypeError\u001b[0m: '>' not supported between instances of 'str' and 'int'"
          ]
        }
      ],
      "source": [
        "age > 60"
      ]
    },
    {
      "cell_type": "code",
      "execution_count": null,
      "id": "70adff9b",
      "metadata": {
        "id": "70adff9b",
        "outputId": "c139dd71-8f0c-46b5-df9c-fdb19fe2f2f1"
      },
      "outputs": [
        {
          "data": {
            "text/plain": [
              "int"
            ]
          },
          "execution_count": 53,
          "metadata": {},
          "output_type": "execute_result"
        }
      ],
      "source": [
        "abc = -85\n",
        "type(age)"
      ]
    },
    {
      "cell_type": "code",
      "execution_count": null,
      "id": "2ee22f7d",
      "metadata": {
        "id": "2ee22f7d",
        "outputId": "c98b76fe-1968-4640-dc60-df2f9f9536d9"
      },
      "outputs": [
        {
          "data": {
            "text/plain": [
              "True"
            ]
          },
          "execution_count": 54,
          "metadata": {},
          "output_type": "execute_result"
        }
      ],
      "source": [
        "bool(abc)"
      ]
    },
    {
      "cell_type": "code",
      "execution_count": null,
      "id": "11b99d98",
      "metadata": {
        "id": "11b99d98",
        "outputId": "d14d0470-3b92-4f5a-b3ec-3dedefe573a5"
      },
      "outputs": [
        {
          "data": {
            "text/plain": [
              "int"
            ]
          },
          "execution_count": 55,
          "metadata": {},
          "output_type": "execute_result"
        }
      ],
      "source": [
        "z = 0\n",
        "type(z)"
      ]
    },
    {
      "cell_type": "code",
      "execution_count": null,
      "id": "7b20061d",
      "metadata": {
        "id": "7b20061d",
        "outputId": "f74b91a4-a11a-4e42-d1b0-bbda75a84de6"
      },
      "outputs": [
        {
          "data": {
            "text/plain": [
              "False"
            ]
          },
          "execution_count": 56,
          "metadata": {},
          "output_type": "execute_result"
        }
      ],
      "source": [
        "bool(z)"
      ]
    },
    {
      "cell_type": "markdown",
      "id": "719d1d62",
      "metadata": {
        "id": "719d1d62"
      },
      "source": [
        "# For loop\n",
        "\n",
        "- Loops in python are used to do any similar task multiple times."
      ]
    },
    {
      "cell_type": "code",
      "execution_count": null,
      "id": "5f512135",
      "metadata": {
        "id": "5f512135",
        "outputId": "fd65c6c8-c03d-41cc-da9a-ea50bf4b549d"
      },
      "outputs": [
        {
          "data": {
            "text/plain": [
              "206116"
            ]
          },
          "execution_count": 60,
          "metadata": {},
          "output_type": "execute_result"
        }
      ],
      "source": [
        "454*454"
      ]
    },
    {
      "cell_type": "code",
      "execution_count": null,
      "id": "16eca98c",
      "metadata": {
        "id": "16eca98c",
        "outputId": "4ed23b47-6910-47f6-e7fb-fcdc56a2177c"
      },
      "outputs": [
        {
          "data": {
            "text/plain": [
              "206116"
            ]
          },
          "execution_count": 63,
          "metadata": {},
          "output_type": "execute_result"
        }
      ],
      "source": [
        "454**2"
      ]
    },
    {
      "cell_type": "code",
      "execution_count": null,
      "id": "63993c4d",
      "metadata": {
        "collapsed": true,
        "id": "63993c4d",
        "outputId": "6912a735-1cb7-4ff9-cb34-54d89e7193cd"
      },
      "outputs": [
        {
          "name": "stdout",
          "output_type": "stream",
          "text": [
            "1\n",
            "2\n",
            "5\n",
            "6\n",
            "9\n",
            "7\n",
            "4\n",
            "5\n",
            "6\n",
            "55\n",
            "4\n",
            "7\n",
            "8\n",
            "9\n",
            "154\n",
            "4\n",
            "454\n"
          ]
        }
      ],
      "source": [
        "lst = [1,2,5,6,9,7,4,5,6,55,4,7,8,9,154,4,454]\n",
        "\n",
        "for i in lst:\n",
        "    print(i)"
      ]
    },
    {
      "cell_type": "code",
      "execution_count": null,
      "id": "65191684",
      "metadata": {
        "collapsed": true,
        "id": "65191684",
        "outputId": "035cd6bc-7ab4-4db3-c4ec-218503b71be7"
      },
      "outputs": [
        {
          "name": "stdout",
          "output_type": "stream",
          "text": [
            "1\n",
            "4\n",
            "25\n",
            "36\n",
            "81\n",
            "49\n",
            "16\n",
            "25\n",
            "36\n",
            "3025\n",
            "16\n",
            "49\n",
            "64\n",
            "81\n",
            "23716\n",
            "16\n",
            "206116\n"
          ]
        }
      ],
      "source": [
        "for i in lst:\n",
        "    print(i**2)"
      ]
    },
    {
      "cell_type": "code",
      "execution_count": null,
      "id": "29a54a28",
      "metadata": {
        "id": "29a54a28",
        "outputId": "4218ab70-68e7-4fa8-8c81-f8a56bc5c782"
      },
      "outputs": [
        {
          "data": {
            "text/plain": [
              "'Python Session'"
            ]
          },
          "execution_count": 69,
          "metadata": {},
          "output_type": "execute_result"
        }
      ],
      "source": [
        "#Sting concatenation\n",
        "\n",
        "word1 = 'Python'\n",
        "word2 = 'Session'\n",
        "word1+' '+word2"
      ]
    },
    {
      "cell_type": "code",
      "execution_count": null,
      "id": "d1109c72",
      "metadata": {
        "id": "d1109c72",
        "outputId": "7338890c-799b-4417-ca4f-816dc468a914"
      },
      "outputs": [
        {
          "data": {
            "text/plain": [
              "['amazon', 'flipkart', 'excelr', 'myntra', 'samsung', 'apple']"
            ]
          },
          "execution_count": 66,
          "metadata": {},
          "output_type": "execute_result"
        }
      ],
      "source": [
        "company = ['amazon','flipkart','excelr','myntra','samsung','apple']\n",
        "company"
      ]
    },
    {
      "cell_type": "code",
      "execution_count": null,
      "id": "ca673eff",
      "metadata": {
        "id": "ca673eff",
        "outputId": "658ba033-1c16-4302-c925-a4417150a8f5"
      },
      "outputs": [
        {
          "name": "stdout",
          "output_type": "stream",
          "text": [
            "www.amazon.com\n",
            "www.flipkart.com\n",
            "www.excelr.com\n",
            "www.myntra.com\n",
            "www.samsung.com\n",
            "www.apple.com\n"
          ]
        }
      ],
      "source": [
        "for i in company:\n",
        "    print('www.'+i+'.com')"
      ]
    },
    {
      "cell_type": "markdown",
      "id": "bb58ebb5",
      "metadata": {
        "id": "bb58ebb5"
      },
      "source": [
        "- Separetly store all even values in list called as even.\n",
        "- store aall odd numbers in diff list called as odd.\n",
        "- range 0,500"
      ]
    },
    {
      "cell_type": "code",
      "execution_count": null,
      "id": "a1df79e4",
      "metadata": {
        "id": "a1df79e4",
        "outputId": "05443a2d-2880-4ad5-cec1-374ee3c5de7c"
      },
      "outputs": [
        {
          "data": {
            "text/plain": [
              "range(0, 501)"
            ]
          },
          "execution_count": 71,
          "metadata": {},
          "output_type": "execute_result"
        }
      ],
      "source": [
        "range(0,501)"
      ]
    },
    {
      "cell_type": "code",
      "execution_count": null,
      "id": "4308e835",
      "metadata": {
        "id": "4308e835",
        "outputId": "83084dca-3cbd-4c6f-8fa5-2b03a210069e"
      },
      "outputs": [
        {
          "data": {
            "text/plain": [
              "0"
            ]
          },
          "execution_count": 75,
          "metadata": {},
          "output_type": "execute_result"
        }
      ],
      "source": []
    },
    {
      "cell_type": "code",
      "execution_count": null,
      "id": "bab18c49",
      "metadata": {
        "id": "bab18c49",
        "outputId": "2f73bf7f-1cd7-4b89-d634-c41001a657d0"
      },
      "outputs": [
        {
          "name": "stdout",
          "output_type": "stream",
          "text": [
            "0\n",
            "1\n",
            "2\n",
            "3\n",
            "4\n",
            "5\n",
            "6\n",
            "7\n",
            "8\n",
            "9\n",
            "10\n",
            "11\n",
            "12\n",
            "13\n",
            "14\n",
            "15\n",
            "16\n",
            "17\n",
            "18\n",
            "19\n",
            "20\n",
            "21\n",
            "22\n",
            "23\n",
            "24\n",
            "25\n",
            "26\n",
            "27\n",
            "28\n",
            "29\n",
            "30\n",
            "31\n",
            "32\n",
            "33\n",
            "34\n",
            "35\n",
            "36\n",
            "37\n",
            "38\n",
            "39\n",
            "40\n",
            "41\n",
            "42\n",
            "43\n",
            "44\n",
            "45\n",
            "46\n",
            "47\n",
            "48\n",
            "49\n",
            "50\n",
            "51\n",
            "52\n",
            "53\n",
            "54\n",
            "55\n",
            "56\n",
            "57\n",
            "58\n",
            "59\n",
            "60\n",
            "61\n",
            "62\n",
            "63\n",
            "64\n",
            "65\n",
            "66\n",
            "67\n",
            "68\n",
            "69\n",
            "70\n",
            "71\n",
            "72\n",
            "73\n",
            "74\n",
            "75\n",
            "76\n",
            "77\n",
            "78\n",
            "79\n",
            "80\n",
            "81\n",
            "82\n",
            "83\n",
            "84\n",
            "85\n",
            "86\n",
            "87\n",
            "88\n",
            "89\n",
            "90\n",
            "91\n",
            "92\n",
            "93\n",
            "94\n",
            "95\n",
            "96\n",
            "97\n",
            "98\n",
            "99\n",
            "100\n",
            "101\n",
            "102\n",
            "103\n",
            "104\n",
            "105\n",
            "106\n",
            "107\n",
            "108\n",
            "109\n",
            "110\n",
            "111\n",
            "112\n",
            "113\n",
            "114\n",
            "115\n",
            "116\n",
            "117\n",
            "118\n",
            "119\n",
            "120\n",
            "121\n",
            "122\n",
            "123\n",
            "124\n",
            "125\n",
            "126\n",
            "127\n",
            "128\n",
            "129\n",
            "130\n",
            "131\n",
            "132\n",
            "133\n",
            "134\n",
            "135\n",
            "136\n",
            "137\n",
            "138\n",
            "139\n",
            "140\n",
            "141\n",
            "142\n",
            "143\n",
            "144\n",
            "145\n",
            "146\n",
            "147\n",
            "148\n",
            "149\n",
            "150\n",
            "151\n",
            "152\n",
            "153\n",
            "154\n",
            "155\n",
            "156\n",
            "157\n",
            "158\n",
            "159\n",
            "160\n",
            "161\n",
            "162\n",
            "163\n",
            "164\n",
            "165\n",
            "166\n",
            "167\n",
            "168\n",
            "169\n",
            "170\n",
            "171\n",
            "172\n",
            "173\n",
            "174\n",
            "175\n",
            "176\n",
            "177\n",
            "178\n",
            "179\n",
            "180\n",
            "181\n",
            "182\n",
            "183\n",
            "184\n",
            "185\n",
            "186\n",
            "187\n",
            "188\n",
            "189\n",
            "190\n",
            "191\n",
            "192\n",
            "193\n",
            "194\n",
            "195\n",
            "196\n",
            "197\n",
            "198\n",
            "199\n",
            "200\n",
            "201\n",
            "202\n",
            "203\n",
            "204\n",
            "205\n",
            "206\n",
            "207\n",
            "208\n",
            "209\n",
            "210\n",
            "211\n",
            "212\n",
            "213\n",
            "214\n",
            "215\n",
            "216\n",
            "217\n",
            "218\n",
            "219\n",
            "220\n",
            "221\n",
            "222\n",
            "223\n",
            "224\n",
            "225\n",
            "226\n",
            "227\n",
            "228\n",
            "229\n",
            "230\n",
            "231\n",
            "232\n",
            "233\n",
            "234\n",
            "235\n",
            "236\n",
            "237\n",
            "238\n",
            "239\n",
            "240\n",
            "241\n",
            "242\n",
            "243\n",
            "244\n",
            "245\n",
            "246\n",
            "247\n",
            "248\n",
            "249\n",
            "250\n",
            "251\n",
            "252\n",
            "253\n",
            "254\n",
            "255\n",
            "256\n",
            "257\n",
            "258\n",
            "259\n",
            "260\n",
            "261\n",
            "262\n",
            "263\n",
            "264\n",
            "265\n",
            "266\n",
            "267\n",
            "268\n",
            "269\n",
            "270\n",
            "271\n",
            "272\n",
            "273\n",
            "274\n",
            "275\n",
            "276\n",
            "277\n",
            "278\n",
            "279\n",
            "280\n",
            "281\n",
            "282\n",
            "283\n",
            "284\n",
            "285\n",
            "286\n",
            "287\n",
            "288\n",
            "289\n",
            "290\n",
            "291\n",
            "292\n",
            "293\n",
            "294\n",
            "295\n",
            "296\n",
            "297\n",
            "298\n",
            "299\n",
            "300\n",
            "301\n",
            "302\n",
            "303\n",
            "304\n",
            "305\n",
            "306\n",
            "307\n",
            "308\n",
            "309\n",
            "310\n",
            "311\n",
            "312\n",
            "313\n",
            "314\n",
            "315\n",
            "316\n",
            "317\n",
            "318\n",
            "319\n",
            "320\n",
            "321\n",
            "322\n",
            "323\n",
            "324\n",
            "325\n",
            "326\n",
            "327\n",
            "328\n",
            "329\n",
            "330\n",
            "331\n",
            "332\n",
            "333\n",
            "334\n",
            "335\n",
            "336\n",
            "337\n",
            "338\n",
            "339\n",
            "340\n",
            "341\n",
            "342\n",
            "343\n",
            "344\n",
            "345\n",
            "346\n",
            "347\n",
            "348\n",
            "349\n",
            "350\n",
            "351\n",
            "352\n",
            "353\n",
            "354\n",
            "355\n",
            "356\n",
            "357\n",
            "358\n",
            "359\n",
            "360\n",
            "361\n",
            "362\n",
            "363\n",
            "364\n",
            "365\n",
            "366\n",
            "367\n",
            "368\n",
            "369\n",
            "370\n",
            "371\n",
            "372\n",
            "373\n",
            "374\n",
            "375\n",
            "376\n",
            "377\n",
            "378\n",
            "379\n",
            "380\n",
            "381\n",
            "382\n",
            "383\n",
            "384\n",
            "385\n",
            "386\n",
            "387\n",
            "388\n",
            "389\n",
            "390\n",
            "391\n",
            "392\n",
            "393\n",
            "394\n",
            "395\n",
            "396\n",
            "397\n",
            "398\n",
            "399\n",
            "400\n",
            "401\n",
            "402\n",
            "403\n",
            "404\n",
            "405\n",
            "406\n",
            "407\n",
            "408\n",
            "409\n",
            "410\n",
            "411\n",
            "412\n",
            "413\n",
            "414\n",
            "415\n",
            "416\n",
            "417\n",
            "418\n",
            "419\n",
            "420\n",
            "421\n",
            "422\n",
            "423\n",
            "424\n",
            "425\n",
            "426\n",
            "427\n",
            "428\n",
            "429\n",
            "430\n",
            "431\n",
            "432\n",
            "433\n",
            "434\n",
            "435\n",
            "436\n",
            "437\n",
            "438\n",
            "439\n",
            "440\n",
            "441\n",
            "442\n",
            "443\n",
            "444\n",
            "445\n",
            "446\n",
            "447\n",
            "448\n",
            "449\n",
            "450\n",
            "451\n",
            "452\n",
            "453\n",
            "454\n",
            "455\n",
            "456\n",
            "457\n",
            "458\n",
            "459\n",
            "460\n",
            "461\n",
            "462\n",
            "463\n",
            "464\n",
            "465\n",
            "466\n",
            "467\n",
            "468\n",
            "469\n",
            "470\n",
            "471\n",
            "472\n",
            "473\n",
            "474\n",
            "475\n",
            "476\n",
            "477\n",
            "478\n",
            "479\n",
            "480\n",
            "481\n",
            "482\n",
            "483\n",
            "484\n",
            "485\n",
            "486\n",
            "487\n",
            "488\n",
            "489\n",
            "490\n",
            "491\n",
            "492\n",
            "493\n",
            "494\n",
            "495\n",
            "496\n",
            "497\n",
            "498\n",
            "499\n",
            "500\n"
          ]
        }
      ],
      "source": [
        "for i in range(0,501):\n",
        "    print(i)"
      ]
    },
    {
      "cell_type": "code",
      "execution_count": null,
      "id": "e262e9d9",
      "metadata": {
        "id": "e262e9d9"
      },
      "outputs": [],
      "source": [
        "even = []\n",
        "odd = []\n",
        "\n",
        "for i in range(0,501):\n",
        "    if i%2 == 0:\n",
        "        even.append(i)\n",
        "    else:\n",
        "        odd.append(i)"
      ]
    },
    {
      "cell_type": "code",
      "execution_count": null,
      "id": "858eff32",
      "metadata": {
        "id": "858eff32",
        "outputId": "23a64a54-5a4e-48aa-fbd2-bb21581707c8"
      },
      "outputs": [
        {
          "data": {
            "text/plain": [
              "[0,\n",
              " 2,\n",
              " 4,\n",
              " 6,\n",
              " 8,\n",
              " 10,\n",
              " 12,\n",
              " 14,\n",
              " 16,\n",
              " 18,\n",
              " 20,\n",
              " 22,\n",
              " 24,\n",
              " 26,\n",
              " 28,\n",
              " 30,\n",
              " 32,\n",
              " 34,\n",
              " 36,\n",
              " 38,\n",
              " 40,\n",
              " 42,\n",
              " 44,\n",
              " 46,\n",
              " 48,\n",
              " 50,\n",
              " 52,\n",
              " 54,\n",
              " 56,\n",
              " 58,\n",
              " 60,\n",
              " 62,\n",
              " 64,\n",
              " 66,\n",
              " 68,\n",
              " 70,\n",
              " 72,\n",
              " 74,\n",
              " 76,\n",
              " 78,\n",
              " 80,\n",
              " 82,\n",
              " 84,\n",
              " 86,\n",
              " 88,\n",
              " 90,\n",
              " 92,\n",
              " 94,\n",
              " 96,\n",
              " 98,\n",
              " 100,\n",
              " 102,\n",
              " 104,\n",
              " 106,\n",
              " 108,\n",
              " 110,\n",
              " 112,\n",
              " 114,\n",
              " 116,\n",
              " 118,\n",
              " 120,\n",
              " 122,\n",
              " 124,\n",
              " 126,\n",
              " 128,\n",
              " 130,\n",
              " 132,\n",
              " 134,\n",
              " 136,\n",
              " 138,\n",
              " 140,\n",
              " 142,\n",
              " 144,\n",
              " 146,\n",
              " 148,\n",
              " 150,\n",
              " 152,\n",
              " 154,\n",
              " 156,\n",
              " 158,\n",
              " 160,\n",
              " 162,\n",
              " 164,\n",
              " 166,\n",
              " 168,\n",
              " 170,\n",
              " 172,\n",
              " 174,\n",
              " 176,\n",
              " 178,\n",
              " 180,\n",
              " 182,\n",
              " 184,\n",
              " 186,\n",
              " 188,\n",
              " 190,\n",
              " 192,\n",
              " 194,\n",
              " 196,\n",
              " 198,\n",
              " 200,\n",
              " 202,\n",
              " 204,\n",
              " 206,\n",
              " 208,\n",
              " 210,\n",
              " 212,\n",
              " 214,\n",
              " 216,\n",
              " 218,\n",
              " 220,\n",
              " 222,\n",
              " 224,\n",
              " 226,\n",
              " 228,\n",
              " 230,\n",
              " 232,\n",
              " 234,\n",
              " 236,\n",
              " 238,\n",
              " 240,\n",
              " 242,\n",
              " 244,\n",
              " 246,\n",
              " 248,\n",
              " 250,\n",
              " 252,\n",
              " 254,\n",
              " 256,\n",
              " 258,\n",
              " 260,\n",
              " 262,\n",
              " 264,\n",
              " 266,\n",
              " 268,\n",
              " 270,\n",
              " 272,\n",
              " 274,\n",
              " 276,\n",
              " 278,\n",
              " 280,\n",
              " 282,\n",
              " 284,\n",
              " 286,\n",
              " 288,\n",
              " 290,\n",
              " 292,\n",
              " 294,\n",
              " 296,\n",
              " 298,\n",
              " 300,\n",
              " 302,\n",
              " 304,\n",
              " 306,\n",
              " 308,\n",
              " 310,\n",
              " 312,\n",
              " 314,\n",
              " 316,\n",
              " 318,\n",
              " 320,\n",
              " 322,\n",
              " 324,\n",
              " 326,\n",
              " 328,\n",
              " 330,\n",
              " 332,\n",
              " 334,\n",
              " 336,\n",
              " 338,\n",
              " 340,\n",
              " 342,\n",
              " 344,\n",
              " 346,\n",
              " 348,\n",
              " 350,\n",
              " 352,\n",
              " 354,\n",
              " 356,\n",
              " 358,\n",
              " 360,\n",
              " 362,\n",
              " 364,\n",
              " 366,\n",
              " 368,\n",
              " 370,\n",
              " 372,\n",
              " 374,\n",
              " 376,\n",
              " 378,\n",
              " 380,\n",
              " 382,\n",
              " 384,\n",
              " 386,\n",
              " 388,\n",
              " 390,\n",
              " 392,\n",
              " 394,\n",
              " 396,\n",
              " 398,\n",
              " 400,\n",
              " 402,\n",
              " 404,\n",
              " 406,\n",
              " 408,\n",
              " 410,\n",
              " 412,\n",
              " 414,\n",
              " 416,\n",
              " 418,\n",
              " 420,\n",
              " 422,\n",
              " 424,\n",
              " 426,\n",
              " 428,\n",
              " 430,\n",
              " 432,\n",
              " 434,\n",
              " 436,\n",
              " 438,\n",
              " 440,\n",
              " 442,\n",
              " 444,\n",
              " 446,\n",
              " 448,\n",
              " 450,\n",
              " 452,\n",
              " 454,\n",
              " 456,\n",
              " 458,\n",
              " 460,\n",
              " 462,\n",
              " 464,\n",
              " 466,\n",
              " 468,\n",
              " 470,\n",
              " 472,\n",
              " 474,\n",
              " 476,\n",
              " 478,\n",
              " 480,\n",
              " 482,\n",
              " 484,\n",
              " 486,\n",
              " 488,\n",
              " 490,\n",
              " 492,\n",
              " 494,\n",
              " 496,\n",
              " 498,\n",
              " 500]"
            ]
          },
          "execution_count": 77,
          "metadata": {},
          "output_type": "execute_result"
        }
      ],
      "source": [
        "even"
      ]
    },
    {
      "cell_type": "code",
      "execution_count": null,
      "id": "2eb1ce1d",
      "metadata": {
        "id": "2eb1ce1d",
        "outputId": "3bd0f4cf-fa78-4155-b28e-a1ab8fc42ee7"
      },
      "outputs": [
        {
          "data": {
            "text/plain": [
              "[1,\n",
              " 3,\n",
              " 5,\n",
              " 7,\n",
              " 9,\n",
              " 11,\n",
              " 13,\n",
              " 15,\n",
              " 17,\n",
              " 19,\n",
              " 21,\n",
              " 23,\n",
              " 25,\n",
              " 27,\n",
              " 29,\n",
              " 31,\n",
              " 33,\n",
              " 35,\n",
              " 37,\n",
              " 39,\n",
              " 41,\n",
              " 43,\n",
              " 45,\n",
              " 47,\n",
              " 49,\n",
              " 51,\n",
              " 53,\n",
              " 55,\n",
              " 57,\n",
              " 59,\n",
              " 61,\n",
              " 63,\n",
              " 65,\n",
              " 67,\n",
              " 69,\n",
              " 71,\n",
              " 73,\n",
              " 75,\n",
              " 77,\n",
              " 79,\n",
              " 81,\n",
              " 83,\n",
              " 85,\n",
              " 87,\n",
              " 89,\n",
              " 91,\n",
              " 93,\n",
              " 95,\n",
              " 97,\n",
              " 99,\n",
              " 101,\n",
              " 103,\n",
              " 105,\n",
              " 107,\n",
              " 109,\n",
              " 111,\n",
              " 113,\n",
              " 115,\n",
              " 117,\n",
              " 119,\n",
              " 121,\n",
              " 123,\n",
              " 125,\n",
              " 127,\n",
              " 129,\n",
              " 131,\n",
              " 133,\n",
              " 135,\n",
              " 137,\n",
              " 139,\n",
              " 141,\n",
              " 143,\n",
              " 145,\n",
              " 147,\n",
              " 149,\n",
              " 151,\n",
              " 153,\n",
              " 155,\n",
              " 157,\n",
              " 159,\n",
              " 161,\n",
              " 163,\n",
              " 165,\n",
              " 167,\n",
              " 169,\n",
              " 171,\n",
              " 173,\n",
              " 175,\n",
              " 177,\n",
              " 179,\n",
              " 181,\n",
              " 183,\n",
              " 185,\n",
              " 187,\n",
              " 189,\n",
              " 191,\n",
              " 193,\n",
              " 195,\n",
              " 197,\n",
              " 199,\n",
              " 201,\n",
              " 203,\n",
              " 205,\n",
              " 207,\n",
              " 209,\n",
              " 211,\n",
              " 213,\n",
              " 215,\n",
              " 217,\n",
              " 219,\n",
              " 221,\n",
              " 223,\n",
              " 225,\n",
              " 227,\n",
              " 229,\n",
              " 231,\n",
              " 233,\n",
              " 235,\n",
              " 237,\n",
              " 239,\n",
              " 241,\n",
              " 243,\n",
              " 245,\n",
              " 247,\n",
              " 249,\n",
              " 251,\n",
              " 253,\n",
              " 255,\n",
              " 257,\n",
              " 259,\n",
              " 261,\n",
              " 263,\n",
              " 265,\n",
              " 267,\n",
              " 269,\n",
              " 271,\n",
              " 273,\n",
              " 275,\n",
              " 277,\n",
              " 279,\n",
              " 281,\n",
              " 283,\n",
              " 285,\n",
              " 287,\n",
              " 289,\n",
              " 291,\n",
              " 293,\n",
              " 295,\n",
              " 297,\n",
              " 299,\n",
              " 301,\n",
              " 303,\n",
              " 305,\n",
              " 307,\n",
              " 309,\n",
              " 311,\n",
              " 313,\n",
              " 315,\n",
              " 317,\n",
              " 319,\n",
              " 321,\n",
              " 323,\n",
              " 325,\n",
              " 327,\n",
              " 329,\n",
              " 331,\n",
              " 333,\n",
              " 335,\n",
              " 337,\n",
              " 339,\n",
              " 341,\n",
              " 343,\n",
              " 345,\n",
              " 347,\n",
              " 349,\n",
              " 351,\n",
              " 353,\n",
              " 355,\n",
              " 357,\n",
              " 359,\n",
              " 361,\n",
              " 363,\n",
              " 365,\n",
              " 367,\n",
              " 369,\n",
              " 371,\n",
              " 373,\n",
              " 375,\n",
              " 377,\n",
              " 379,\n",
              " 381,\n",
              " 383,\n",
              " 385,\n",
              " 387,\n",
              " 389,\n",
              " 391,\n",
              " 393,\n",
              " 395,\n",
              " 397,\n",
              " 399,\n",
              " 401,\n",
              " 403,\n",
              " 405,\n",
              " 407,\n",
              " 409,\n",
              " 411,\n",
              " 413,\n",
              " 415,\n",
              " 417,\n",
              " 419,\n",
              " 421,\n",
              " 423,\n",
              " 425,\n",
              " 427,\n",
              " 429,\n",
              " 431,\n",
              " 433,\n",
              " 435,\n",
              " 437,\n",
              " 439,\n",
              " 441,\n",
              " 443,\n",
              " 445,\n",
              " 447,\n",
              " 449,\n",
              " 451,\n",
              " 453,\n",
              " 455,\n",
              " 457,\n",
              " 459,\n",
              " 461,\n",
              " 463,\n",
              " 465,\n",
              " 467,\n",
              " 469,\n",
              " 471,\n",
              " 473,\n",
              " 475,\n",
              " 477,\n",
              " 479,\n",
              " 481,\n",
              " 483,\n",
              " 485,\n",
              " 487,\n",
              " 489,\n",
              " 491,\n",
              " 493,\n",
              " 495,\n",
              " 497,\n",
              " 499]"
            ]
          },
          "execution_count": 78,
          "metadata": {},
          "output_type": "execute_result"
        }
      ],
      "source": [
        "odd"
      ]
    },
    {
      "cell_type": "code",
      "execution_count": null,
      "id": "c596d4b3",
      "metadata": {
        "id": "c596d4b3"
      },
      "outputs": [],
      "source": []
    },
    {
      "cell_type": "code",
      "execution_count": null,
      "id": "ad15a706",
      "metadata": {
        "id": "ad15a706"
      },
      "outputs": [],
      "source": []
    },
    {
      "cell_type": "code",
      "execution_count": null,
      "id": "2af7711d",
      "metadata": {
        "id": "2af7711d"
      },
      "outputs": [],
      "source": []
    },
    {
      "cell_type": "markdown",
      "id": "708b3f2a",
      "metadata": {
        "id": "708b3f2a"
      },
      "source": [
        "# Functions\n",
        "\n",
        "- Python supports two types of function:\n",
        "    - Built in\n",
        "    - User defined"
      ]
    },
    {
      "cell_type": "code",
      "execution_count": null,
      "id": "3c6cd0b2",
      "metadata": {
        "id": "3c6cd0b2"
      },
      "outputs": [],
      "source": [
        "def add():\n",
        "    print(5+357684)\n",
        "\n",
        "add()"
      ]
    },
    {
      "cell_type": "code",
      "execution_count": null,
      "id": "f9f7e5da",
      "metadata": {
        "id": "f9f7e5da"
      },
      "outputs": [],
      "source": [
        "#With arguments\n",
        "\n",
        "def add(num1,num2):\n",
        "    print(num1+num2)"
      ]
    },
    {
      "cell_type": "code",
      "execution_count": null,
      "id": "dc9d611b",
      "metadata": {
        "id": "dc9d611b"
      },
      "outputs": [],
      "source": [
        "add(85,65)"
      ]
    },
    {
      "cell_type": "code",
      "execution_count": null,
      "id": "151315b3",
      "metadata": {
        "id": "151315b3"
      },
      "outputs": [],
      "source": [
        "#with format string\n",
        "\n",
        "def info(name, age, location):\n",
        "    print(f\"Name of customer is {name}. Age of customer is {age}. Customer location is {location}\")"
      ]
    },
    {
      "cell_type": "code",
      "execution_count": null,
      "id": "f429fe6f",
      "metadata": {
        "id": "f429fe6f"
      },
      "outputs": [],
      "source": [
        "info('Anit',25,'Pune')"
      ]
    },
    {
      "cell_type": "code",
      "execution_count": null,
      "id": "cc97c57f",
      "metadata": {
        "id": "cc97c57f"
      },
      "outputs": [],
      "source": []
    }
  ],
  "metadata": {
    "kernelspec": {
      "display_name": "Python 3 (ipykernel)",
      "language": "python",
      "name": "python3"
    },
    "language_info": {
      "codemirror_mode": {
        "name": "ipython",
        "version": 3
      },
      "file_extension": ".py",
      "mimetype": "text/x-python",
      "name": "python",
      "nbconvert_exporter": "python",
      "pygments_lexer": "ipython3",
      "version": "3.11.5"
    },
    "colab": {
      "provenance": [],
      "include_colab_link": true
    }
  },
  "nbformat": 4,
  "nbformat_minor": 5
}