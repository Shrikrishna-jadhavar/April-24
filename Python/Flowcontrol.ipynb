{
  "nbformat": 4,
  "nbformat_minor": 0,
  "metadata": {
    "colab": {
      "provenance": []
    },
    "kernelspec": {
      "name": "python3",
      "display_name": "Python 3"
    },
    "language_info": {
      "name": "python"
    }
  },
  "cells": [
    {
      "cell_type": "code",
      "execution_count": null,
      "metadata": {
        "colab": {
          "base_uri": "https://localhost:8080/"
        },
        "id": "GNgSDH-EJ3Ta",
        "outputId": "8de29b41-e2dc-428a-87b5-51964fbc0675"
      },
      "outputs": [
        {
          "output_type": "execute_result",
          "data": {
            "text/plain": [
              "False"
            ]
          },
          "metadata": {},
          "execution_count": 2
        }
      ],
      "source": [
        "True\n",
        "False"
      ]
    },
    {
      "cell_type": "code",
      "source": [
        "a=True\n",
        "a"
      ],
      "metadata": {
        "colab": {
          "base_uri": "https://localhost:8080/"
        },
        "id": "2vRQe1afKHEr",
        "outputId": "b1d80a3a-6afc-49ee-9be0-8ed69ed8937c"
      },
      "execution_count": null,
      "outputs": [
        {
          "output_type": "execute_result",
          "data": {
            "text/plain": [
              "True"
            ]
          },
          "metadata": {},
          "execution_count": 3
        }
      ]
    },
    {
      "cell_type": "code",
      "source": [
        "True=4"
      ],
      "metadata": {
        "colab": {
          "base_uri": "https://localhost:8080/",
          "height": 109
        },
        "id": "agwSNO7AKMtq",
        "outputId": "f1f208a1-0e5e-40f5-e9c5-a64007b8b971"
      },
      "execution_count": null,
      "outputs": [
        {
          "output_type": "error",
          "ename": "SyntaxError",
          "evalue": "cannot assign to True (<ipython-input-4-7f441d9b8d32>, line 1)",
          "traceback": [
            "\u001b[0;36m  File \u001b[0;32m\"<ipython-input-4-7f441d9b8d32>\"\u001b[0;36m, line \u001b[0;32m1\u001b[0m\n\u001b[0;31m    True=4\u001b[0m\n\u001b[0m    ^\u001b[0m\n\u001b[0;31mSyntaxError\u001b[0m\u001b[0;31m:\u001b[0m cannot assign to True\n"
          ]
        }
      ]
    },
    {
      "cell_type": "code",
      "source": [
        "true=4\n",
        "true"
      ],
      "metadata": {
        "colab": {
          "base_uri": "https://localhost:8080/"
        },
        "id": "Aaw7um1JKPn5",
        "outputId": "ab14044f-20cd-4b6d-eae1-c9409213561b"
      },
      "execution_count": null,
      "outputs": [
        {
          "output_type": "execute_result",
          "data": {
            "text/plain": [
              "4"
            ]
          },
          "metadata": {},
          "execution_count": 5
        }
      ]
    },
    {
      "cell_type": "code",
      "source": [
        "int(\"45\")"
      ],
      "metadata": {
        "colab": {
          "base_uri": "https://localhost:8080/"
        },
        "id": "0Cz5Hy5xKT2S",
        "outputId": "a1ceec7e-37a4-4233-b93f-688b88ecfb1a"
      },
      "execution_count": null,
      "outputs": [
        {
          "output_type": "execute_result",
          "data": {
            "text/plain": [
              "45"
            ]
          },
          "metadata": {},
          "execution_count": 6
        }
      ]
    },
    {
      "cell_type": "code",
      "source": [
        "int(True)"
      ],
      "metadata": {
        "colab": {
          "base_uri": "https://localhost:8080/"
        },
        "id": "XOZrJXoBKeRS",
        "outputId": "efe16431-db91-46c7-ecd6-3792880efdd3"
      },
      "execution_count": null,
      "outputs": [
        {
          "output_type": "execute_result",
          "data": {
            "text/plain": [
              "1"
            ]
          },
          "metadata": {},
          "execution_count": 7
        }
      ]
    },
    {
      "cell_type": "code",
      "source": [
        "int(False)"
      ],
      "metadata": {
        "colab": {
          "base_uri": "https://localhost:8080/"
        },
        "id": "lIIqdr5lKgdJ",
        "outputId": "e4d08cc0-050f-4237-87d6-4893c6fee407"
      },
      "execution_count": null,
      "outputs": [
        {
          "output_type": "execute_result",
          "data": {
            "text/plain": [
              "0"
            ]
          },
          "metadata": {},
          "execution_count": 8
        }
      ]
    },
    {
      "cell_type": "code",
      "source": [
        "True==2"
      ],
      "metadata": {
        "colab": {
          "base_uri": "https://localhost:8080/"
        },
        "id": "dpV6N0gMKj3h",
        "outputId": "6608f1d8-cfaf-41f9-b3ef-b3d88f718a07"
      },
      "execution_count": null,
      "outputs": [
        {
          "output_type": "execute_result",
          "data": {
            "text/plain": [
              "False"
            ]
          },
          "metadata": {},
          "execution_count": 9
        }
      ]
    },
    {
      "cell_type": "code",
      "source": [
        "a=2\n",
        "False==0"
      ],
      "metadata": {
        "colab": {
          "base_uri": "https://localhost:8080/"
        },
        "id": "fBtARVXhKrGp",
        "outputId": "d7235637-f85d-445b-f157-0f6787e57400"
      },
      "execution_count": null,
      "outputs": [
        {
          "output_type": "execute_result",
          "data": {
            "text/plain": [
              "True"
            ]
          },
          "metadata": {},
          "execution_count": 11
        }
      ]
    },
    {
      "cell_type": "code",
      "source": [
        "bool(4)"
      ],
      "metadata": {
        "colab": {
          "base_uri": "https://localhost:8080/"
        },
        "id": "DaXkQR9vKu0a",
        "outputId": "fc31c5bd-eec8-4ef7-db9f-0dab5a0fcf4a"
      },
      "execution_count": null,
      "outputs": [
        {
          "output_type": "execute_result",
          "data": {
            "text/plain": [
              "True"
            ]
          },
          "metadata": {},
          "execution_count": 12
        }
      ]
    },
    {
      "cell_type": "code",
      "source": [
        "bool(\"hb\")"
      ],
      "metadata": {
        "colab": {
          "base_uri": "https://localhost:8080/"
        },
        "id": "Tp66eEm-K5ky",
        "outputId": "99fa250f-2b8d-4b76-d514-71405a1527a5"
      },
      "execution_count": null,
      "outputs": [
        {
          "output_type": "execute_result",
          "data": {
            "text/plain": [
              "True"
            ]
          },
          "metadata": {},
          "execution_count": 13
        }
      ]
    },
    {
      "cell_type": "code",
      "source": [
        "bool(4.5)"
      ],
      "metadata": {
        "colab": {
          "base_uri": "https://localhost:8080/"
        },
        "id": "T8ZwLdHwK_jp",
        "outputId": "61243eec-5319-418a-8eaa-51f90db32d8d"
      },
      "execution_count": null,
      "outputs": [
        {
          "output_type": "execute_result",
          "data": {
            "text/plain": [
              "True"
            ]
          },
          "metadata": {},
          "execution_count": 14
        }
      ]
    },
    {
      "cell_type": "code",
      "source": [
        "bool(0)"
      ],
      "metadata": {
        "colab": {
          "base_uri": "https://localhost:8080/"
        },
        "id": "3gOwfxqVLByi",
        "outputId": "8d604276-8025-41e6-e5be-b1182b5b94de"
      },
      "execution_count": null,
      "outputs": [
        {
          "output_type": "execute_result",
          "data": {
            "text/plain": [
              "False"
            ]
          },
          "metadata": {},
          "execution_count": 15
        }
      ]
    },
    {
      "cell_type": "code",
      "source": [
        "# help()"
      ],
      "metadata": {
        "colab": {
          "base_uri": "https://localhost:8080/"
        },
        "id": "xnKacXEhLDtC",
        "outputId": "fd9a60ec-0507-4ee1-e3ee-1015fb17de64"
      },
      "execution_count": null,
      "outputs": [
        {
          "output_type": "stream",
          "name": "stdout",
          "text": [
            "\n",
            "You are now leaving help and returning to the Python interpreter.\n",
            "If you want to ask for help on a particular object directly from the\n",
            "interpreter, you can type \"help(object)\".  Executing \"help('string')\"\n",
            "has the same effect as typing a particular string at the help> prompt.\n"
          ]
        }
      ]
    },
    {
      "cell_type": "code",
      "source": [
        "a=7\n",
        "b=8\n",
        "a>b"
      ],
      "metadata": {
        "colab": {
          "base_uri": "https://localhost:8080/"
        },
        "id": "7Tup1MnTLK0Z",
        "outputId": "9c331369-1f83-48cf-ba98-60bd9675d340"
      },
      "execution_count": null,
      "outputs": [
        {
          "output_type": "execute_result",
          "data": {
            "text/plain": [
              "False"
            ]
          },
          "metadata": {},
          "execution_count": 17
        }
      ]
    },
    {
      "cell_type": "code",
      "source": [
        "a>=b"
      ],
      "metadata": {
        "colab": {
          "base_uri": "https://localhost:8080/"
        },
        "id": "9rMWfJInLZq6",
        "outputId": "feb87411-0b45-47ac-a033-e0552ca23abb"
      },
      "execution_count": null,
      "outputs": [
        {
          "output_type": "execute_result",
          "data": {
            "text/plain": [
              "False"
            ]
          },
          "metadata": {},
          "execution_count": 18
        }
      ]
    },
    {
      "cell_type": "code",
      "source": [
        "a<b"
      ],
      "metadata": {
        "colab": {
          "base_uri": "https://localhost:8080/"
        },
        "id": "8rPGBZr5Lb9R",
        "outputId": "6c29a8c7-94a0-4333-e5b3-35c6255e9fd4"
      },
      "execution_count": null,
      "outputs": [
        {
          "output_type": "execute_result",
          "data": {
            "text/plain": [
              "True"
            ]
          },
          "metadata": {},
          "execution_count": 19
        }
      ]
    },
    {
      "cell_type": "code",
      "source": [
        "a<=b"
      ],
      "metadata": {
        "colab": {
          "base_uri": "https://localhost:8080/"
        },
        "id": "j38DV18rLfsX",
        "outputId": "7b6f0cef-a953-44e4-e456-90bc491ba26f"
      },
      "execution_count": null,
      "outputs": [
        {
          "output_type": "execute_result",
          "data": {
            "text/plain": [
              "True"
            ]
          },
          "metadata": {},
          "execution_count": 21
        }
      ]
    },
    {
      "cell_type": "code",
      "source": [
        "a==b"
      ],
      "metadata": {
        "colab": {
          "base_uri": "https://localhost:8080/"
        },
        "id": "plmpIWdgLiOD",
        "outputId": "74bd4420-2719-457c-e829-298b0632c2a4"
      },
      "execution_count": null,
      "outputs": [
        {
          "output_type": "execute_result",
          "data": {
            "text/plain": [
              "False"
            ]
          },
          "metadata": {},
          "execution_count": 22
        }
      ]
    },
    {
      "cell_type": "code",
      "source": [
        "a!=b"
      ],
      "metadata": {
        "colab": {
          "base_uri": "https://localhost:8080/"
        },
        "id": "Ux7Jzvt9LoeG",
        "outputId": "a3b2f303-a150-4dcd-fd11-aca40f2734a7"
      },
      "execution_count": null,
      "outputs": [
        {
          "output_type": "execute_result",
          "data": {
            "text/plain": [
              "True"
            ]
          },
          "metadata": {},
          "execution_count": 23
        }
      ]
    },
    {
      "cell_type": "code",
      "source": [
        "a=9\n",
        "b=6\n",
        "a>b and a<b"
      ],
      "metadata": {
        "colab": {
          "base_uri": "https://localhost:8080/"
        },
        "id": "0CLdcwqELqh6",
        "outputId": "a20d0cd6-abae-4601-be57-bdf1b6fc16bd"
      },
      "execution_count": null,
      "outputs": [
        {
          "output_type": "execute_result",
          "data": {
            "text/plain": [
              "False"
            ]
          },
          "metadata": {},
          "execution_count": 24
        }
      ]
    },
    {
      "cell_type": "code",
      "source": [
        "a!=b and a>b"
      ],
      "metadata": {
        "colab": {
          "base_uri": "https://localhost:8080/"
        },
        "id": "aUDENTfmL9jl",
        "outputId": "107efdad-3b20-4d1e-8b87-5582cb1279ec"
      },
      "execution_count": null,
      "outputs": [
        {
          "output_type": "execute_result",
          "data": {
            "text/plain": [
              "True"
            ]
          },
          "metadata": {},
          "execution_count": 25
        }
      ]
    },
    {
      "cell_type": "code",
      "source": [
        "False and False"
      ],
      "metadata": {
        "colab": {
          "base_uri": "https://localhost:8080/"
        },
        "id": "IzYfcPPCMESJ",
        "outputId": "78f8f43a-0297-4fdb-8bef-468b09dea33a"
      },
      "execution_count": null,
      "outputs": [
        {
          "output_type": "execute_result",
          "data": {
            "text/plain": [
              "False"
            ]
          },
          "metadata": {},
          "execution_count": 26
        }
      ]
    },
    {
      "cell_type": "code",
      "source": [
        "False and True"
      ],
      "metadata": {
        "colab": {
          "base_uri": "https://localhost:8080/"
        },
        "id": "tHPC-uGSMLqP",
        "outputId": "3e69dc50-0ac2-417f-f652-ddc1bf611c61"
      },
      "execution_count": null,
      "outputs": [
        {
          "output_type": "execute_result",
          "data": {
            "text/plain": [
              "False"
            ]
          },
          "metadata": {},
          "execution_count": 27
        }
      ]
    },
    {
      "cell_type": "code",
      "source": [
        "True and False"
      ],
      "metadata": {
        "colab": {
          "base_uri": "https://localhost:8080/"
        },
        "id": "Y-H3plPZMON_",
        "outputId": "35648a57-a325-4660-9511-d4942be5a8dc"
      },
      "execution_count": null,
      "outputs": [
        {
          "output_type": "execute_result",
          "data": {
            "text/plain": [
              "False"
            ]
          },
          "metadata": {},
          "execution_count": 28
        }
      ]
    },
    {
      "cell_type": "code",
      "source": [
        "True and True"
      ],
      "metadata": {
        "colab": {
          "base_uri": "https://localhost:8080/"
        },
        "id": "jYLeWze9MRIh",
        "outputId": "924bbabe-222a-43dd-80cf-d61e6f30b7bf"
      },
      "execution_count": null,
      "outputs": [
        {
          "output_type": "execute_result",
          "data": {
            "text/plain": [
              "True"
            ]
          },
          "metadata": {},
          "execution_count": 29
        }
      ]
    },
    {
      "cell_type": "code",
      "source": [
        "False or True"
      ],
      "metadata": {
        "colab": {
          "base_uri": "https://localhost:8080/"
        },
        "id": "ugwai1o8MTEz",
        "outputId": "cebd586f-b484-40e6-e1f5-7c04a0e6aa4a"
      },
      "execution_count": null,
      "outputs": [
        {
          "output_type": "execute_result",
          "data": {
            "text/plain": [
              "True"
            ]
          },
          "metadata": {},
          "execution_count": 30
        }
      ]
    },
    {
      "cell_type": "code",
      "source": [
        "True or False"
      ],
      "metadata": {
        "colab": {
          "base_uri": "https://localhost:8080/"
        },
        "id": "3FE94hxaMZhR",
        "outputId": "f00831dc-b7de-4819-9574-e4e90cb17e2f"
      },
      "execution_count": null,
      "outputs": [
        {
          "output_type": "execute_result",
          "data": {
            "text/plain": [
              "True"
            ]
          },
          "metadata": {},
          "execution_count": 31
        }
      ]
    },
    {
      "cell_type": "code",
      "source": [
        "True or True"
      ],
      "metadata": {
        "colab": {
          "base_uri": "https://localhost:8080/"
        },
        "id": "wHFHn9PvMdFo",
        "outputId": "47c16e46-b762-4cd0-96af-0b2434ff10d0"
      },
      "execution_count": null,
      "outputs": [
        {
          "output_type": "execute_result",
          "data": {
            "text/plain": [
              "True"
            ]
          },
          "metadata": {},
          "execution_count": 32
        }
      ]
    },
    {
      "cell_type": "code",
      "source": [
        "False or False"
      ],
      "metadata": {
        "colab": {
          "base_uri": "https://localhost:8080/"
        },
        "id": "33qAoojMMgiF",
        "outputId": "c766e32f-ef4d-4bdf-dd6a-d078405b507c"
      },
      "execution_count": null,
      "outputs": [
        {
          "output_type": "execute_result",
          "data": {
            "text/plain": [
              "False"
            ]
          },
          "metadata": {},
          "execution_count": 33
        }
      ]
    },
    {
      "cell_type": "code",
      "source": [
        "not True"
      ],
      "metadata": {
        "colab": {
          "base_uri": "https://localhost:8080/"
        },
        "id": "oma08Fp6MkSi",
        "outputId": "c8c3eb24-9b48-4090-af3d-13922ce8006f"
      },
      "execution_count": null,
      "outputs": [
        {
          "output_type": "execute_result",
          "data": {
            "text/plain": [
              "False"
            ]
          },
          "metadata": {},
          "execution_count": 34
        }
      ]
    },
    {
      "cell_type": "code",
      "source": [
        "a"
      ],
      "metadata": {
        "colab": {
          "base_uri": "https://localhost:8080/"
        },
        "id": "jUdnEwg2MrkI",
        "outputId": "b1f04bd8-5d02-40cb-a7c2-0b42c978a549"
      },
      "execution_count": null,
      "outputs": [
        {
          "output_type": "execute_result",
          "data": {
            "text/plain": [
              "9"
            ]
          },
          "metadata": {},
          "execution_count": 35
        }
      ]
    },
    {
      "cell_type": "code",
      "source": [
        "b"
      ],
      "metadata": {
        "colab": {
          "base_uri": "https://localhost:8080/"
        },
        "id": "Il7R5o22Mth5",
        "outputId": "0abb85e9-fdc7-4969-c63d-88e7068a68e8"
      },
      "execution_count": null,
      "outputs": [
        {
          "output_type": "execute_result",
          "data": {
            "text/plain": [
              "6"
            ]
          },
          "metadata": {},
          "execution_count": 36
        }
      ]
    },
    {
      "cell_type": "code",
      "source": [
        "not not not not not not not not a>b"
      ],
      "metadata": {
        "colab": {
          "base_uri": "https://localhost:8080/"
        },
        "id": "LfsaWCD2Mu1W",
        "outputId": "1fea8d5e-8c30-4c62-8c69-98d41a019798"
      },
      "execution_count": null,
      "outputs": [
        {
          "output_type": "execute_result",
          "data": {
            "text/plain": [
              "True"
            ]
          },
          "metadata": {},
          "execution_count": 37
        }
      ]
    },
    {
      "cell_type": "code",
      "source": [
        "a = 4\n",
        "b = 2\n",
        "print(a==b)\n",
        "print(a!=b)\n",
        "print(a>b)\n",
        "print(a>=b)\n",
        "print(a<b)\n",
        "print(a<=b)"
      ],
      "metadata": {
        "colab": {
          "base_uri": "https://localhost:8080/"
        },
        "id": "-JXg3_RLNASj",
        "outputId": "737dda86-4d02-49bc-8987-ca552d028606"
      },
      "execution_count": null,
      "outputs": [
        {
          "output_type": "stream",
          "name": "stdout",
          "text": [
            "False\n",
            "True\n",
            "True\n",
            "True\n",
            "False\n",
            "False\n"
          ]
        }
      ]
    },
    {
      "cell_type": "code",
      "source": [
        "print('The value of a is', a)\n",
        "print('The value of b is', b)\n",
        "\n",
        "print('Integer value of True is ', int(True))\n",
        "print('Integer value of False is ', int(False))\n",
        "print('Boolean value of 1 is ', bool(1))\n",
        "print('Boolean value of 0 is ', bool(0))\n",
        "print('Boolean value of a is ', bool(a))\n",
        "print('Boolean value of b is ', bool(b))\n",
        "\n",
        "print(a+True)\n",
        "print(b*False)\n",
        "print(a/True)\n",
        "print(b//False)\n"
      ],
      "metadata": {
        "colab": {
          "base_uri": "https://localhost:8080/",
          "height": 377
        },
        "id": "Buvyi4CvP6ps",
        "outputId": "c5fab77b-639d-49fc-81ac-e691d71fc7be"
      },
      "execution_count": null,
      "outputs": [
        {
          "output_type": "stream",
          "name": "stdout",
          "text": [
            "The value of a is 4\n",
            "The value of b is 2\n",
            "Integer value of True is  1\n",
            "Integer value of False is  0\n",
            "Boolean value of 1 is  True\n",
            "Boolean value of 0 is  False\n",
            "Boolean value of a is  True\n",
            "Boolean value of b is  True\n",
            "5\n",
            "0\n",
            "4.0\n"
          ]
        },
        {
          "output_type": "error",
          "ename": "ZeroDivisionError",
          "evalue": "integer division or modulo by zero",
          "traceback": [
            "\u001b[0;31m---------------------------------------------------------------------------\u001b[0m",
            "\u001b[0;31mZeroDivisionError\u001b[0m                         Traceback (most recent call last)",
            "\u001b[0;32m<ipython-input-48-f7c9de2ea64a>\u001b[0m in \u001b[0;36m<cell line: 14>\u001b[0;34m()\u001b[0m\n\u001b[1;32m     12\u001b[0m \u001b[0mprint\u001b[0m\u001b[0;34m(\u001b[0m\u001b[0mb\u001b[0m\u001b[0;34m*\u001b[0m\u001b[0;32mFalse\u001b[0m\u001b[0;34m)\u001b[0m\u001b[0;34m\u001b[0m\u001b[0;34m\u001b[0m\u001b[0m\n\u001b[1;32m     13\u001b[0m \u001b[0mprint\u001b[0m\u001b[0;34m(\u001b[0m\u001b[0ma\u001b[0m\u001b[0;34m/\u001b[0m\u001b[0;32mTrue\u001b[0m\u001b[0;34m)\u001b[0m\u001b[0;34m\u001b[0m\u001b[0;34m\u001b[0m\u001b[0m\n\u001b[0;32m---> 14\u001b[0;31m \u001b[0mprint\u001b[0m\u001b[0;34m(\u001b[0m\u001b[0mb\u001b[0m\u001b[0;34m//\u001b[0m\u001b[0;32mFalse\u001b[0m\u001b[0;34m)\u001b[0m\u001b[0;34m\u001b[0m\u001b[0;34m\u001b[0m\u001b[0m\n\u001b[0m",
            "\u001b[0;31mZeroDivisionError\u001b[0m: integer division or modulo by zero"
          ]
        }
      ]
    },
    {
      "cell_type": "code",
      "source": [
        "'apple'>'call'"
      ],
      "metadata": {
        "colab": {
          "base_uri": "https://localhost:8080/"
        },
        "id": "zPn4pi7gRQDn",
        "outputId": "8c08d6e3-7724-41ad-b461-0ef743e80344"
      },
      "execution_count": null,
      "outputs": [
        {
          "output_type": "execute_result",
          "data": {
            "text/plain": [
              "False"
            ]
          },
          "metadata": {},
          "execution_count": 72
        }
      ]
    },
    {
      "cell_type": "code",
      "source": [
        "12 and 13"
      ],
      "metadata": {
        "colab": {
          "base_uri": "https://localhost:8080/"
        },
        "id": "HbZSnyCNZwOJ",
        "outputId": "6b9f03d0-5f5d-4a4e-a952-a48e249fce50"
      },
      "execution_count": null,
      "outputs": [
        {
          "output_type": "execute_result",
          "data": {
            "text/plain": [
              "13"
            ]
          },
          "metadata": {},
          "execution_count": 51
        }
      ]
    },
    {
      "cell_type": "code",
      "source": [
        "bool(1)"
      ],
      "metadata": {
        "colab": {
          "base_uri": "https://localhost:8080/"
        },
        "id": "ZuBxPAGUaIGl",
        "outputId": "18c313cc-b3dd-4bce-ae36-fd7027a1d42f"
      },
      "execution_count": null,
      "outputs": [
        {
          "output_type": "execute_result",
          "data": {
            "text/plain": [
              "True"
            ]
          },
          "metadata": {},
          "execution_count": 52
        }
      ]
    },
    {
      "cell_type": "code",
      "source": [
        "bool(13)"
      ],
      "metadata": {
        "colab": {
          "base_uri": "https://localhost:8080/"
        },
        "id": "LXtR5Ua4aR0e",
        "outputId": "5c7530cf-b094-4a9b-aa49-5d806c273847"
      },
      "execution_count": null,
      "outputs": [
        {
          "output_type": "execute_result",
          "data": {
            "text/plain": [
              "True"
            ]
          },
          "metadata": {},
          "execution_count": 53
        }
      ]
    },
    {
      "cell_type": "code",
      "source": [
        "12 or 13"
      ],
      "metadata": {
        "colab": {
          "base_uri": "https://localhost:8080/"
        },
        "id": "Gxa3lh6eaTry",
        "outputId": "9eb736a2-1a0e-4738-b849-67218737d471"
      },
      "execution_count": null,
      "outputs": [
        {
          "output_type": "execute_result",
          "data": {
            "text/plain": [
              "12"
            ]
          },
          "metadata": {},
          "execution_count": 54
        }
      ]
    },
    {
      "cell_type": "code",
      "source": [
        "(1>2) and (3<4) or (8==8)"
      ],
      "metadata": {
        "colab": {
          "base_uri": "https://localhost:8080/"
        },
        "id": "teTiAMyZaWil",
        "outputId": "739f0331-2e28-4b44-e6e8-dd08c30853de"
      },
      "execution_count": null,
      "outputs": [
        {
          "output_type": "execute_result",
          "data": {
            "text/plain": [
              "True"
            ]
          },
          "metadata": {},
          "execution_count": 55
        }
      ]
    },
    {
      "cell_type": "code",
      "source": [
        "False and True or True"
      ],
      "metadata": {
        "colab": {
          "base_uri": "https://localhost:8080/"
        },
        "id": "8dV07w2KfRvX",
        "outputId": "f1b046ff-6764-4e0f-ff59-511dcfd05c34"
      },
      "execution_count": null,
      "outputs": [
        {
          "output_type": "execute_result",
          "data": {
            "text/plain": [
              "True"
            ]
          },
          "metadata": {},
          "execution_count": 74
        }
      ]
    },
    {
      "cell_type": "code",
      "source": [
        "(1>2) or (3<4) and (8==8)"
      ],
      "metadata": {
        "colab": {
          "base_uri": "https://localhost:8080/"
        },
        "id": "x2gshwJmagwr",
        "outputId": "6937d399-91f1-478b-ca76-ac0131fbb713"
      },
      "execution_count": null,
      "outputs": [
        {
          "output_type": "execute_result",
          "data": {
            "text/plain": [
              "True"
            ]
          },
          "metadata": {},
          "execution_count": 56
        }
      ]
    },
    {
      "cell_type": "code",
      "source": [
        "(1>2) or (3<4) and not(8==8)"
      ],
      "metadata": {
        "colab": {
          "base_uri": "https://localhost:8080/"
        },
        "id": "rhjPv0BQaqEI",
        "outputId": "10fc9a62-8896-42f2-a1ee-ddcb7987f8cc"
      },
      "execution_count": null,
      "outputs": [
        {
          "output_type": "execute_result",
          "data": {
            "text/plain": [
              "False"
            ]
          },
          "metadata": {},
          "execution_count": 57
        }
      ]
    },
    {
      "cell_type": "code",
      "source": [
        "False or True and not True"
      ],
      "metadata": {
        "colab": {
          "base_uri": "https://localhost:8080/"
        },
        "id": "Nj_PFh3Sfs6l",
        "outputId": "6e8fd000-2d13-4e19-cf91-777068e6d382"
      },
      "execution_count": null,
      "outputs": [
        {
          "output_type": "execute_result",
          "data": {
            "text/plain": [
              "False"
            ]
          },
          "metadata": {},
          "execution_count": 75
        }
      ]
    },
    {
      "cell_type": "code",
      "source": [
        "marks=90\n",
        "if marks>=90:\n",
        "  print('Hurray... you can party..')"
      ],
      "metadata": {
        "colab": {
          "base_uri": "https://localhost:8080/"
        },
        "id": "_brN_dc2bQ4m",
        "outputId": "f3bfeb4e-a6fb-4375-ce4c-42010d2ce334"
      },
      "execution_count": null,
      "outputs": [
        {
          "output_type": "stream",
          "name": "stdout",
          "text": [
            "Hurray... you can party..\n"
          ]
        }
      ]
    },
    {
      "cell_type": "code",
      "source": [
        "grade =60\n",
        "if grade<=70:\n",
        "  print('hurray...')"
      ],
      "metadata": {
        "colab": {
          "base_uri": "https://localhost:8080/"
        },
        "id": "t3ML8molgIGj",
        "outputId": "0c417246-4562-430e-ba6f-82c1dc72b7ba"
      },
      "execution_count": null,
      "outputs": [
        {
          "output_type": "stream",
          "name": "stdout",
          "text": [
            "hurray...\n"
          ]
        }
      ]
    },
    {
      "cell_type": "code",
      "source": [
        "marks=80\n",
        "if marks>=90:\n",
        "  print('Hurray... you can party..')\n",
        "else:\n",
        "  print('Study hard')"
      ],
      "metadata": {
        "colab": {
          "base_uri": "https://localhost:8080/"
        },
        "id": "denFRBn2bg5U",
        "outputId": "7ceeb5cb-4335-4432-a764-bda4728f6c8e"
      },
      "execution_count": null,
      "outputs": [
        {
          "output_type": "stream",
          "name": "stdout",
          "text": [
            "Study hard\n"
          ]
        }
      ]
    },
    {
      "cell_type": "code",
      "source": [
        "grade= 80\n",
        "if grade<=70:\n",
        "  print('Hurray...')\n",
        "else:\n",
        "  print('okk')"
      ],
      "metadata": {
        "colab": {
          "base_uri": "https://localhost:8080/"
        },
        "id": "zQdv7FQfg6YE",
        "outputId": "3326a948-f30c-40e8-ab95-8141ceb11e25"
      },
      "execution_count": null,
      "outputs": [
        {
          "output_type": "stream",
          "name": "stdout",
          "text": [
            "okk\n"
          ]
        }
      ]
    },
    {
      "cell_type": "code",
      "source": [
        "marks=80\n",
        "if marks>=90:\n",
        "  print('Hurray... you can party..')\n",
        "elif marks>=80:\n",
        "  print('Still you can party')\n",
        "else:\n",
        "  print('Study hard')"
      ],
      "metadata": {
        "colab": {
          "base_uri": "https://localhost:8080/"
        },
        "id": "-eAgFeSybwSR",
        "outputId": "7f6ef844-d44d-47d1-b524-fa713aef336f"
      },
      "execution_count": null,
      "outputs": [
        {
          "output_type": "stream",
          "name": "stdout",
          "text": [
            "Still you can party\n"
          ]
        }
      ]
    },
    {
      "cell_type": "code",
      "source": [
        "grade= 40\n",
        "if grade<=50:\n",
        "  print('Hurray...')\n",
        "elif grade<=60:\n",
        "  print('Still you can')\n",
        "else:\n",
        "  print('okk')"
      ],
      "metadata": {
        "colab": {
          "base_uri": "https://localhost:8080/"
        },
        "id": "N-Uqg5VbiGXp",
        "outputId": "847f66ff-f874-48d8-a789-d702557578e3"
      },
      "execution_count": null,
      "outputs": [
        {
          "output_type": "stream",
          "name": "stdout",
          "text": [
            "Hurray...\n"
          ]
        }
      ]
    },
    {
      "cell_type": "code",
      "source": [
        "marks=93\n",
        "if marks>=90:\n",
        "  print('Hurray... you can party..')\n",
        "elif marks>=80:\n",
        "  print('Still you can party')\n",
        "elif marks>=70:\n",
        "  print('Yeee... got more than 70')\n",
        "elif marks>=60:\n",
        "  print('Okk.. watch movie')\n",
        "else:\n",
        "  print('Study hard')"
      ],
      "metadata": {
        "colab": {
          "base_uri": "https://localhost:8080/"
        },
        "id": "fv9k1p4icBKh",
        "outputId": "3be73040-a210-438c-88b0-8ade63af37aa"
      },
      "execution_count": null,
      "outputs": [
        {
          "output_type": "stream",
          "name": "stdout",
          "text": [
            "Hurray... you can party..\n"
          ]
        }
      ]
    },
    {
      "cell_type": "code",
      "source": [
        "marks=61\n",
        "if marks>=90:\n",
        "  print('Hurray... you can party..')\n",
        "elif marks>=80:\n",
        "  print('Okk.. watch movie')\n",
        "elif marks>=50:         #Sequence is important\n",
        "  print('Still you can party')\n",
        "elif marks>=60:\n",
        "  print('Yeee... got more than 70')\n",
        "\n",
        "else:\n",
        "  print('Study hard')"
      ],
      "metadata": {
        "colab": {
          "base_uri": "https://localhost:8080/"
        },
        "id": "bRcLrS0acVCq",
        "outputId": "476f00ca-ad1b-43b3-d910-d9679c4e96ad"
      },
      "execution_count": null,
      "outputs": [
        {
          "output_type": "stream",
          "name": "stdout",
          "text": [
            "Still you can party\n"
          ]
        }
      ]
    },
    {
      "cell_type": "code",
      "source": [
        "a=-6\n",
        "if a>=0:\n",
        "  print('It is positive')\n",
        "  if a>=10:\n",
        "    print('greater than 10')\n",
        "  else:\n",
        "    print('less than 10')\n",
        "\n",
        "else:\n",
        "  print('Less than 0')\n",
        "  if a<0:\n",
        "    print('It is negative number')"
      ],
      "metadata": {
        "colab": {
          "base_uri": "https://localhost:8080/"
        },
        "id": "RScC8E6KchPc",
        "outputId": "88e62869-2edb-4252-8a24-509df51a50f5"
      },
      "execution_count": null,
      "outputs": [
        {
          "output_type": "stream",
          "name": "stdout",
          "text": [
            "Less than 0\n",
            "It is negative number\n"
          ]
        }
      ]
    },
    {
      "cell_type": "code",
      "source": [
        "a=12\n",
        "if a>=5:\n",
        "  print('It is positive')\n",
        "  if a>=10:\n",
        "    print('greater than 10')\n",
        "  else:\n",
        "    print('less than 10')\n",
        "\n",
        "else:\n",
        "  print('Less than 0')\n",
        "  if a<0:\n",
        "    print('It is negative number')"
      ],
      "metadata": {
        "colab": {
          "base_uri": "https://localhost:8080/"
        },
        "id": "Xh50JNrqdC27",
        "outputId": "69f7a721-a563-4bdc-83dd-de24ffc3744b"
      },
      "execution_count": null,
      "outputs": [
        {
          "output_type": "stream",
          "name": "stdout",
          "text": [
            "It is positive\n",
            "greater than 10\n"
          ]
        }
      ]
    },
    {
      "cell_type": "code",
      "source": [
        "x = 7\n",
        "if x < 10:\n",
        "    print('Less than 10')\n",
        "    if x > 5:\n",
        "        print('Greater than 5')\n",
        "    else:\n",
        "        print('Less than 5')"
      ],
      "metadata": {
        "colab": {
          "base_uri": "https://localhost:8080/"
        },
        "id": "51cCfMkik_Sn",
        "outputId": "7e9e2fd3-a990-4343-f83b-b37db14efe2a"
      },
      "execution_count": null,
      "outputs": [
        {
          "output_type": "stream",
          "name": "stdout",
          "text": [
            "Less than 10\n",
            "Greater than 5\n"
          ]
        }
      ]
    },
    {
      "cell_type": "code",
      "source": [
        "True and True\n",
        "True or True"
      ],
      "metadata": {
        "colab": {
          "base_uri": "https://localhost:8080/"
        },
        "id": "oINrQhM1mcoh",
        "outputId": "98e1276d-e9ce-4b8e-80dd-725fa90c092d"
      },
      "execution_count": null,
      "outputs": [
        {
          "output_type": "execute_result",
          "data": {
            "text/plain": [
              "True"
            ]
          },
          "metadata": {},
          "execution_count": 103
        }
      ]
    },
    {
      "cell_type": "code",
      "source": [
        "(1>2) and (55<54)\n",
        "(1>2) or (55<54)"
      ],
      "metadata": {
        "colab": {
          "base_uri": "https://localhost:8080/"
        },
        "id": "02aiqhR0nXl_",
        "outputId": "b474bf02-183c-48cc-fcff-df537fb92685"
      },
      "execution_count": null,
      "outputs": [
        {
          "output_type": "execute_result",
          "data": {
            "text/plain": [
              "False"
            ]
          },
          "metadata": {},
          "execution_count": 105
        }
      ]
    },
    {
      "cell_type": "code",
      "source": [
        "(55/2) and True"
      ],
      "metadata": {
        "colab": {
          "base_uri": "https://localhost:8080/"
        },
        "id": "Ub7QIWwtnkr8",
        "outputId": "b7e46917-9d36-447a-9ec1-be6728f4a5ad"
      },
      "execution_count": null,
      "outputs": [
        {
          "output_type": "execute_result",
          "data": {
            "text/plain": [
              "True"
            ]
          },
          "metadata": {},
          "execution_count": 109
        }
      ]
    },
    {
      "cell_type": "code",
      "source": [
        "not (10>5)"
      ],
      "metadata": {
        "colab": {
          "base_uri": "https://localhost:8080/"
        },
        "id": "aBXHWaBXobL9",
        "outputId": "97543a23-964c-4104-cb6f-47a3d362a22d"
      },
      "execution_count": null,
      "outputs": [
        {
          "output_type": "execute_result",
          "data": {
            "text/plain": [
              "False"
            ]
          },
          "metadata": {},
          "execution_count": 111
        }
      ]
    },
    {
      "cell_type": "code",
      "source": [
        "net_worth_of_Mark_Zuckerberg =int(input())\n",
        "if net_worth_of_Mark_Zuckerberg == 54500000000:\n",
        "  print(' Thats 54.5 billion!')\n",
        "if net_worth_of_Mark_Zuckerberg < 54500000000 :\n",
        "  print('Thats not much!')\n",
        "if net_worth_of_Mark_Zuckerberg > 54500000000 :\n",
        "  print(' I will make more when I graduate')\n"
      ],
      "metadata": {
        "colab": {
          "base_uri": "https://localhost:8080/"
        },
        "id": "Vcf9CVgsosj7",
        "outputId": "7b26d975-1f28-4e07-ef05-340b9b2a5ef7"
      },
      "execution_count": null,
      "outputs": [
        {
          "output_type": "stream",
          "name": "stdout",
          "text": [
            "54500000000\n",
            " Thats 54.5 billion!\n"
          ]
        }
      ]
    },
    {
      "cell_type": "code",
      "source": [
        "cost_price_of_a_bike = int(input())\n",
        "if cost_price_of_a_bike > 100000:\n",
        "  print('total price of the bike including the tax of 15%', cost_price_of_a_bike+(cost_price_of_a_bike*15)/100)\n",
        "if cost_price_of_a_bike >50000 and cost_price_of_a_bike <= 100000:\n",
        "  print('total price of the bike including the tax of 10%', cost_price_of_a_bike+(cost_price_of_a_bike*10)/100)\n",
        "if cost_price_of_a_bike <= 50000:\n",
        "    print('total price of the bike including the tax of 5%', cost_price_of_a_bike+(cost_price_of_a_bike*5)/100)\n"
      ],
      "metadata": {
        "colab": {
          "base_uri": "https://localhost:8080/"
        },
        "id": "LxCasyMAuZzG",
        "outputId": "6a339cef-d8bc-46c5-b135-5b826fb677fd"
      },
      "execution_count": null,
      "outputs": [
        {
          "output_type": "stream",
          "name": "stdout",
          "text": [
            "40000\n",
            "total price of the bike including the tax of 5% 42000.0\n"
          ]
        }
      ]
    },
    {
      "cell_type": "code",
      "source": [
        "Number_of_classes_held = int(input())\n",
        "Number_of_classes_attended = int(input())\n",
        "\n",
        "percentage = (Number_of_classes_attended/Number_of_classes_held)*100\n",
        "if percentage >= 75:\n",
        "  print('allowed to sit for the exams...')\n",
        "else:\n",
        "  print('not allowed to sit for the exams')"
      ],
      "metadata": {
        "id": "p_f0d5Ln055R",
        "colab": {
          "base_uri": "https://localhost:8080/"
        },
        "outputId": "26ec7d46-535a-451b-c951-aa5128c99656"
      },
      "execution_count": null,
      "outputs": [
        {
          "output_type": "stream",
          "name": "stdout",
          "text": [
            "100\n",
            "20\n",
            "not allowed to sit for the exams\n"
          ]
        }
      ]
    },
    {
      "cell_type": "code",
      "source": [
        "age = int(input())\n",
        "gender = input()\n",
        "days = int(input())\n",
        "\n",
        "if age >= 18 and age < 30:\n",
        "  if gender == 'M':\n",
        "    print(days * 700)\n",
        "  elif gender =='F':\n",
        "    print(days * 750)\n",
        "elif age >= 30 and age <= 40:\n",
        "  if gender == 'M':\n",
        "    print(days * 800)\n",
        "  elif gender =='F':\n",
        "    print(days * 850)\n"
      ],
      "metadata": {
        "colab": {
          "base_uri": "https://localhost:8080/"
        },
        "id": "lYx0nh_TSlue",
        "outputId": "9a3de62b-e64b-4cc2-eaec-61d0e9873ea2"
      },
      "execution_count": null,
      "outputs": [
        {
          "output_type": "stream",
          "name": "stdout",
          "text": [
            "40\n",
            "M\n",
            "100\n",
            "80000\n"
          ]
        }
      ]
    },
    {
      "cell_type": "code",
      "source": [
        "year = int(input())\n",
        "if year%400==0 and (year%100!=0 or year%4==0):\n",
        "  print('Leap year')\n",
        "else:\n",
        "  print('not')"
      ],
      "metadata": {
        "colab": {
          "base_uri": "https://localhost:8080/"
        },
        "id": "wAqIePRvYX-3",
        "outputId": "cc804f08-249e-42bd-f0fe-da080e35ca96"
      },
      "execution_count": null,
      "outputs": [
        {
          "output_type": "stream",
          "name": "stdout",
          "text": [
            "2000\n",
            "Leap year\n"
          ]
        }
      ]
    },
    {
      "cell_type": "code",
      "source": [
        "days=int(input('enter or days:  '))\n",
        "if days>=1 and days<=5:\n",
        "  print('total rupees are',days*2)\n",
        "elif days>=6 and days<=10:\n",
        "  print('total rupees are',(days-5)*3+10)\n",
        "elif days>=11 and days<=15:\n",
        "  print ('total rupees are',(days-10)*4+25)\n",
        "elif days>15:\n",
        "  print ('total rupees are',(days-15)*5+45)"
      ],
      "metadata": {
        "colab": {
          "base_uri": "https://localhost:8080/"
        },
        "id": "JNdVSCltbWvv",
        "outputId": "c1098822-340b-44c6-cebd-8e1c458f223c"
      },
      "execution_count": null,
      "outputs": [
        {
          "output_type": "stream",
          "name": "stdout",
          "text": [
            "enter or days:  16\n",
            "total rupees are 50\n"
          ]
        }
      ]
    },
    {
      "cell_type": "code",
      "source": [
        "units=int(input('Number of Unit:'))\n",
        "if units<=100:\n",
        "  print('Total Bill is free')\n",
        "elif units>100 and units<=300:\n",
        "  print('Total Bill is ',(units-100)*2+0)\n",
        "\n",
        "elif units>300:\n",
        "  print('Total Bill is ',(units-300)*5+400)"
      ],
      "metadata": {
        "colab": {
          "base_uri": "https://localhost:8080/"
        },
        "id": "GNry8V5jdwiR",
        "outputId": "d4942893-87d0-472b-881c-aea4ed21970f"
      },
      "execution_count": null,
      "outputs": [
        {
          "output_type": "stream",
          "name": "stdout",
          "text": [
            "Number of Unit:550\n",
            "Total Bill is  1650\n"
          ]
        }
      ]
    },
    {
      "cell_type": "code",
      "source": [
        "u=int(input())\n",
        "if u<=100:\n",
        "  print('free')\n",
        "elif u>100 and u<=300:\n",
        "  print((u-100)*2+0)\n",
        "elif u>300:\n",
        "  print((u-300)*5+400)"
      ],
      "metadata": {
        "colab": {
          "base_uri": "https://localhost:8080/"
        },
        "id": "i3kiAhSLk_Yu",
        "outputId": "161c8dbd-a3ec-4feb-96f4-ce01234b551e"
      },
      "execution_count": null,
      "outputs": [
        {
          "output_type": "stream",
          "name": "stdout",
          "text": [
            "550\n",
            "1650\n"
          ]
        }
      ]
    },
    {
      "cell_type": "code",
      "source": [
        "if False:\n",
        "  print('a')"
      ],
      "metadata": {
        "id": "ttb9KQXL9QcC"
      },
      "execution_count": null,
      "outputs": []
    },
    {
      "cell_type": "code",
      "source": [
        "else:\n",
        "  print('b')"
      ],
      "metadata": {
        "colab": {
          "base_uri": "https://localhost:8080/",
          "height": 109
        },
        "id": "CqNH5H_a9i15",
        "outputId": "9a2444e0-6b91-469f-fafc-80fe29a43aa2"
      },
      "execution_count": null,
      "outputs": [
        {
          "output_type": "error",
          "ename": "SyntaxError",
          "evalue": "invalid syntax (<ipython-input-146-776be351547c>, line 1)",
          "traceback": [
            "\u001b[0;36m  File \u001b[0;32m\"<ipython-input-146-776be351547c>\"\u001b[0;36m, line \u001b[0;32m1\u001b[0m\n\u001b[0;31m    else:\u001b[0m\n\u001b[0m    ^\u001b[0m\n\u001b[0;31mSyntaxError\u001b[0m\u001b[0;31m:\u001b[0m invalid syntax\n"
          ]
        }
      ]
    },
    {
      "cell_type": "code",
      "source": [
        "if True:\n",
        "  print('a')\n",
        "else:\n",
        "  print('b')\n",
        "  if True:\n",
        "    print('c')\n",
        "  else:\n",
        "    print('d')"
      ],
      "metadata": {
        "colab": {
          "base_uri": "https://localhost:8080/"
        },
        "id": "k42I1NIn9p55",
        "outputId": "9526d311-b77c-4ec5-cef2-31f35c564c52"
      },
      "execution_count": null,
      "outputs": [
        {
          "output_type": "stream",
          "name": "stdout",
          "text": [
            "a\n"
          ]
        }
      ]
    },
    {
      "cell_type": "code",
      "source": [
        "if False:\n",
        "  print('a')\n",
        "else:\n",
        "  print('b')\n",
        "  if True:\n",
        "    print('c')\n",
        "  else:\n",
        "    print('d')"
      ],
      "metadata": {
        "colab": {
          "base_uri": "https://localhost:8080/"
        },
        "id": "WBmig2xM94S5",
        "outputId": "0154967a-9186-484d-9821-0cd21d970cea"
      },
      "execution_count": null,
      "outputs": [
        {
          "output_type": "stream",
          "name": "stdout",
          "text": [
            "b\n",
            "c\n"
          ]
        }
      ]
    },
    {
      "cell_type": "code",
      "source": [
        "if False:\n",
        "  print('a')\n",
        "else:\n",
        "  print('b')\n",
        "  if True:\n",
        "    print('c')\n",
        "  if False:\n",
        "    print('e')\n",
        "  else:\n",
        "    print('d')"
      ],
      "metadata": {
        "colab": {
          "base_uri": "https://localhost:8080/"
        },
        "id": "gSRN6g3N99qj",
        "outputId": "8b5bb400-f0c0-4311-b450-d13ea69392cd"
      },
      "execution_count": null,
      "outputs": [
        {
          "output_type": "stream",
          "name": "stdout",
          "text": [
            "b\n",
            "c\n",
            "d\n"
          ]
        }
      ]
    },
    {
      "cell_type": "code",
      "source": [
        "if False:\n",
        "  print('a')\n",
        "else:\n",
        "  print('b')\n",
        "  if False:\n",
        "    print('c')\n",
        "  if True:\n",
        "    print('e')\n",
        "  else:\n",
        "    print('d')"
      ],
      "metadata": {
        "colab": {
          "base_uri": "https://localhost:8080/"
        },
        "id": "DxNMpYWf-zPF",
        "outputId": "cac216f9-0860-4aa5-9c20-677d37bbd128"
      },
      "execution_count": null,
      "outputs": [
        {
          "output_type": "stream",
          "name": "stdout",
          "text": [
            "b\n",
            "e\n"
          ]
        }
      ]
    },
    {
      "cell_type": "code",
      "source": [
        "if False:\n",
        "  print('a')\n",
        "else:\n",
        "  print('b')\n",
        "  if True:\n",
        "    print('c')\n",
        "  if True:\n",
        "    print('e')\n",
        "  else:\n",
        "    print('d')\n",
        "if True:\n",
        "  print('f')"
      ],
      "metadata": {
        "colab": {
          "base_uri": "https://localhost:8080/"
        },
        "id": "kFDVKxaI_dZ1",
        "outputId": "84fc942a-bb39-4642-8375-92f40a49e5f8"
      },
      "execution_count": null,
      "outputs": [
        {
          "output_type": "stream",
          "name": "stdout",
          "text": [
            "b\n",
            "c\n",
            "e\n",
            "f\n"
          ]
        }
      ]
    },
    {
      "cell_type": "code",
      "source": [
        "if False:\n",
        "  print('a')\n",
        "else:\n",
        "  print('b')\n",
        "  if False:\n",
        "    print('c')\n",
        "  if True:\n",
        "    print('e')\n",
        "  else:\n",
        "    print('d')\n",
        "if False:\n",
        "  print('f')\n",
        "else:\n",
        "  print('g')"
      ],
      "metadata": {
        "id": "6AfWu7W5_nkr",
        "colab": {
          "base_uri": "https://localhost:8080/"
        },
        "outputId": "41afb446-2aa3-40ff-84b9-7b878e8efa39"
      },
      "execution_count": null,
      "outputs": [
        {
          "output_type": "stream",
          "name": "stdout",
          "text": [
            "b\n",
            "e\n",
            "g\n"
          ]
        }
      ]
    },
    {
      "cell_type": "code",
      "source": [
        "if True:\n",
        "  print('a')\n",
        "elif True:\n",
        "  print('b')"
      ],
      "metadata": {
        "colab": {
          "base_uri": "https://localhost:8080/"
        },
        "id": "EbDDTzRR_64i",
        "outputId": "969f1ff7-aa12-45fc-cc1c-44f95dff769d"
      },
      "execution_count": null,
      "outputs": [
        {
          "output_type": "stream",
          "name": "stdout",
          "text": [
            "a\n"
          ]
        }
      ]
    },
    {
      "cell_type": "code",
      "source": [
        "if True:\n",
        "  print('a')\n",
        "elif True:\n",
        "  print('b')\n",
        "else:\n",
        "  print('c')"
      ],
      "metadata": {
        "colab": {
          "base_uri": "https://localhost:8080/"
        },
        "id": "24K97zUAAJyM",
        "outputId": "fc6cead0-142d-4b6c-8419-e92353e1010a"
      },
      "execution_count": null,
      "outputs": [
        {
          "output_type": "stream",
          "name": "stdout",
          "text": [
            "a\n"
          ]
        }
      ]
    },
    {
      "cell_type": "code",
      "source": [
        "if False:\n",
        "  print('a')\n",
        "elif True:\n",
        "  print('b')\n",
        "elif True:s\n",
        "  print('c')\n",
        "elif False:\n",
        "  print('d')\n",
        "  if False:\n",
        "    print('f')\n",
        "  elif True:\n",
        "    print('e')"
      ],
      "metadata": {
        "colab": {
          "base_uri": "https://localhost:8080/"
        },
        "id": "FxuqyAE_AR8X",
        "outputId": "b2f6b4fa-625a-4f33-d0aa-04ddcc5bfc34"
      },
      "execution_count": null,
      "outputs": [
        {
          "output_type": "stream",
          "name": "stdout",
          "text": [
            "b\n"
          ]
        }
      ]
    },
    {
      "cell_type": "code",
      "source": [
        "z = 7\n",
        "if z > 5:\n",
        "  print (\"Greater than 5\")\n",
        "  if z == 7:\n",
        "    print (\"Equal to 7\")"
      ],
      "metadata": {
        "colab": {
          "base_uri": "https://localhost:8080/"
        },
        "id": "sGOk_MnFb8EX",
        "outputId": "1d5138a0-0e16-418e-c929-bd8a597b3699"
      },
      "execution_count": null,
      "outputs": [
        {
          "output_type": "stream",
          "name": "stdout",
          "text": [
            "Greater than 5\n",
            "Equal to 7\n"
          ]
        }
      ]
    },
    {
      "cell_type": "code",
      "source": [
        "grade = 85\n",
        "if grade >=90:\n",
        "  letter_grade = \"A\"\n",
        "if grade >=80:\n",
        "  letter_grade = \"B\"\n",
        "if grade >=70:\n",
        "  letter_grade = \"C\"\n",
        "else:\n",
        "  letter_grade = \"F\"\n",
        "print (letter_grade)"
      ],
      "metadata": {
        "colab": {
          "base_uri": "https://localhost:8080/"
        },
        "id": "w2XbHvyMdM_q",
        "outputId": "a3b76fe2-acaf-4bfa-8f1f-2614071e09d0"
      },
      "execution_count": null,
      "outputs": [
        {
          "output_type": "stream",
          "name": "stdout",
          "text": [
            "C\n"
          ]
        }
      ]
    },
    {
      "cell_type": "code",
      "source": [
        "a = 8\n",
        "b = 3\n",
        "if a % 2 == 0 and b % 2 != 0:\n",
        "  print (\"condition 1\")\n",
        "if a % 2 != 0 and b % 2 == 0:          #if / elif\n",
        "  print (\"condition 2\")\n",
        "else:\n",
        "  print (\"condition 3\")"
      ],
      "metadata": {
        "colab": {
          "base_uri": "https://localhost:8080/"
        },
        "id": "iI9bPhajfXC9",
        "outputId": "4f760111-46ea-4a99-c7dd-bec3be086131"
      },
      "execution_count": null,
      "outputs": [
        {
          "output_type": "stream",
          "name": "stdout",
          "text": [
            "condition 1\n",
            "condition 3\n"
          ]
        }
      ]
    },
    {
      "cell_type": "code",
      "source": [
        "z = 7\n",
        "if z > 5:\n",
        " print(\"Greater than 5\")\n",
        "elif z == 7:\n",
        " print(\"Equal to 7\")"
      ],
      "metadata": {
        "colab": {
          "base_uri": "https://localhost:8080/"
        },
        "id": "hWmiwEVaiSW9",
        "outputId": "573a091b-f4db-4079-b2e3-5723ffebfb03"
      },
      "execution_count": null,
      "outputs": [
        {
          "output_type": "stream",
          "name": "stdout",
          "text": [
            "Greater than 5\n"
          ]
        }
      ]
    },
    {
      "cell_type": "code",
      "source": [],
      "metadata": {
        "id": "7OKhI34Xi54L"
      },
      "execution_count": null,
      "outputs": []
    }
  ]
}