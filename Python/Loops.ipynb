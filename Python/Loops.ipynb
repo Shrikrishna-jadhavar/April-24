{
  "nbformat": 4,
  "nbformat_minor": 0,
  "metadata": {
    "colab": {
      "provenance": []
    },
    "kernelspec": {
      "name": "python3",
      "display_name": "Python 3"
    },
    "language_info": {
      "name": "python"
    }
  },
  "cells": [
    {
      "cell_type": "code",
      "execution_count": null,
      "metadata": {
        "colab": {
          "base_uri": "https://localhost:8080/"
        },
        "id": "jMZ9U-j8l3Yf",
        "outputId": "ca6c01e0-742a-44d3-9f14-c038673b9ffa"
      },
      "outputs": [
        {
          "output_type": "stream",
          "name": "stdout",
          "text": [
            "1\n"
          ]
        }
      ],
      "source": [
        "i=1\n",
        "if i<=10:                   # if keyword , condition ,stop .\n",
        "  print(i)\n",
        "  i=i+1"
      ]
    },
    {
      "cell_type": "code",
      "source": [
        "i=1                         # initialization, start\n",
        "while i<=10:                # while keyword , condition , stop\n",
        "  print(i)                  # print\n",
        "  i=i+1 # positive step     # increment or decrement , step"
      ],
      "metadata": {
        "colab": {
          "base_uri": "https://localhost:8080/"
        },
        "id": "63ZjAVSWmLdF",
        "outputId": "e86b6874-6a6b-4768-d5e9-82ea343c189b"
      },
      "execution_count": null,
      "outputs": [
        {
          "output_type": "stream",
          "name": "stdout",
          "text": [
            "1\n",
            "2\n",
            "3\n",
            "4\n",
            "5\n",
            "6\n",
            "7\n",
            "8\n",
            "9\n",
            "10\n"
          ]
        }
      ]
    },
    {
      "cell_type": "code",
      "source": [
        "i=1\n",
        "while i<10:\n",
        "  print(i)\n",
        "  i=i+1"
      ],
      "metadata": {
        "colab": {
          "base_uri": "https://localhost:8080/"
        },
        "id": "ZJdOr8IDmAzh",
        "outputId": "c5742ce8-17ac-4a15-f55e-d331640454e3"
      },
      "execution_count": null,
      "outputs": [
        {
          "output_type": "stream",
          "name": "stdout",
          "text": [
            "1\n",
            "2\n",
            "3\n",
            "4\n",
            "5\n",
            "6\n",
            "7\n",
            "8\n",
            "9\n"
          ]
        }
      ]
    },
    {
      "cell_type": "code",
      "source": [
        "i=10\n",
        "while i>=1:\n",
        "  print(i)\n",
        "  i=i-1       # negative step"
      ],
      "metadata": {
        "colab": {
          "base_uri": "https://localhost:8080/"
        },
        "id": "T6p1WEkqm3hH",
        "outputId": "5a81f3b1-4674-491c-dba3-4d3776ebcc4e"
      },
      "execution_count": null,
      "outputs": [
        {
          "output_type": "stream",
          "name": "stdout",
          "text": [
            "10\n",
            "9\n",
            "8\n",
            "7\n",
            "6\n",
            "5\n",
            "4\n",
            "3\n",
            "2\n",
            "1\n"
          ]
        }
      ]
    },
    {
      "cell_type": "code",
      "source": [
        "i=10\n",
        "while i>=1:\n",
        "  if i%2==0:\n",
        "    print(i)\n",
        "  i=i-1"
      ],
      "metadata": {
        "colab": {
          "base_uri": "https://localhost:8080/"
        },
        "id": "cATtuEAQnIfq",
        "outputId": "a17404ac-a41a-47c7-b411-0d5d08c13341"
      },
      "execution_count": null,
      "outputs": [
        {
          "output_type": "stream",
          "name": "stdout",
          "text": [
            "10\n",
            "8\n",
            "6\n",
            "4\n",
            "2\n"
          ]
        }
      ]
    },
    {
      "cell_type": "code",
      "source": [
        "i=1\n",
        "while i<=10:\n",
        "  if i%2==0:\n",
        "    print(i)\n",
        "  i=i+1"
      ],
      "metadata": {
        "colab": {
          "base_uri": "https://localhost:8080/"
        },
        "id": "OxuHbBcDnZA5",
        "outputId": "8d6825d4-6957-4c1b-fbd4-5c56dfa2c7de"
      },
      "execution_count": null,
      "outputs": [
        {
          "output_type": "stream",
          "name": "stdout",
          "text": [
            "2\n",
            "4\n",
            "6\n",
            "8\n",
            "10\n"
          ]
        }
      ]
    },
    {
      "cell_type": "code",
      "source": [
        "i=10            # infinity loop\n",
        "while i>=1:\n",
        "  if i%2==0:\n",
        "    print(i)\n"
      ],
      "metadata": {
        "id": "8E-qFRn0nyt_"
      },
      "execution_count": null,
      "outputs": []
    },
    {
      "cell_type": "code",
      "source": [
        "name=''                         # annoying loop\n",
        "while name!='shrikrishn':\n",
        "  print('Enter your name ')\n",
        "  name=input()\n",
        "print('Hello, welcome....')"
      ],
      "metadata": {
        "colab": {
          "base_uri": "https://localhost:8080/"
        },
        "id": "6zmflQX0oEfH",
        "outputId": "03df24c5-67b8-4e1d-9a43-1220c8aba7a6"
      },
      "execution_count": null,
      "outputs": [
        {
          "output_type": "stream",
          "name": "stdout",
          "text": [
            "Enter your name \n",
            "shrikrishn\n",
            "Hello, welcome....\n"
          ]
        }
      ]
    },
    {
      "cell_type": "code",
      "source": [
        "i = 5\n",
        "while (i >1):\n",
        "  print (i)\n",
        "  i= i-1"
      ],
      "metadata": {
        "colab": {
          "base_uri": "https://localhost:8080/"
        },
        "id": "_wR9q7T_onOU",
        "outputId": "c3d5102b-f90a-4821-e910-7b2f4f6ce58e"
      },
      "execution_count": null,
      "outputs": [
        {
          "output_type": "stream",
          "name": "stdout",
          "text": [
            "5\n",
            "4\n",
            "3\n",
            "2\n"
          ]
        }
      ]
    },
    {
      "cell_type": "code",
      "source": [
        "for i in range(1,10,1):         # range(start : default is 0 , stop : compulsary , step : default is +1)\n",
        "  print(i)"
      ],
      "metadata": {
        "colab": {
          "base_uri": "https://localhost:8080/"
        },
        "id": "M_wToKdX0KhW",
        "outputId": "0bde780c-dbd2-4589-ba47-c9313763ff3b"
      },
      "execution_count": null,
      "outputs": [
        {
          "output_type": "stream",
          "name": "stdout",
          "text": [
            "1\n",
            "2\n",
            "3\n",
            "4\n",
            "5\n",
            "6\n",
            "7\n",
            "8\n",
            "9\n"
          ]
        }
      ]
    },
    {
      "cell_type": "code",
      "source": [
        "for i in range(10):\n",
        "  print(i)"
      ],
      "metadata": {
        "colab": {
          "base_uri": "https://localhost:8080/"
        },
        "id": "8kTz0JrG012Z",
        "outputId": "4f12deaf-5170-4ec5-ab21-05e3be13739d"
      },
      "execution_count": null,
      "outputs": [
        {
          "output_type": "stream",
          "name": "stdout",
          "text": [
            "0\n",
            "1\n",
            "2\n",
            "3\n",
            "4\n",
            "5\n",
            "6\n",
            "7\n",
            "8\n",
            "9\n"
          ]
        }
      ]
    },
    {
      "cell_type": "code",
      "source": [
        "for i in range(10,0,-1):\n",
        "  print(i)"
      ],
      "metadata": {
        "colab": {
          "base_uri": "https://localhost:8080/"
        },
        "id": "f1b7N3GU1KoY",
        "outputId": "2f8c8507-72be-4d3f-fa44-52b830de4850"
      },
      "execution_count": null,
      "outputs": [
        {
          "output_type": "stream",
          "name": "stdout",
          "text": [
            "10\n",
            "9\n",
            "8\n",
            "7\n",
            "6\n",
            "5\n",
            "4\n",
            "3\n",
            "2\n",
            "1\n"
          ]
        }
      ]
    },
    {
      "cell_type": "code",
      "source": [
        "for i in range(-1,-10,-1):\n",
        "  print(i)"
      ],
      "metadata": {
        "colab": {
          "base_uri": "https://localhost:8080/"
        },
        "id": "X4fy9IFU1vHt",
        "outputId": "ea01e745-7e6a-4af3-9633-1fed7463ae69"
      },
      "execution_count": null,
      "outputs": [
        {
          "output_type": "stream",
          "name": "stdout",
          "text": [
            "-1\n",
            "-2\n",
            "-3\n",
            "-4\n",
            "-5\n",
            "-6\n",
            "-7\n",
            "-8\n",
            "-9\n"
          ]
        }
      ]
    },
    {
      "cell_type": "code",
      "source": [
        "for i in range(11):\n",
        "  if i%2==0:\n",
        "    print(i)"
      ],
      "metadata": {
        "colab": {
          "base_uri": "https://localhost:8080/"
        },
        "id": "sfbsvWzW16Xu",
        "outputId": "e85145ad-6e7c-49d8-f4ad-f1a9076872c2"
      },
      "execution_count": null,
      "outputs": [
        {
          "output_type": "stream",
          "name": "stdout",
          "text": [
            "0\n",
            "2\n",
            "4\n",
            "6\n",
            "8\n",
            "10\n"
          ]
        }
      ]
    },
    {
      "cell_type": "code",
      "source": [
        "#Create a program to display the first 10 even numbers in reverse order in a single line using end parameter of print function.\n",
        "\n",
        "for i in range(10,-1,-1):\n",
        "  if i%2==0:\n",
        "    print(i)"
      ],
      "metadata": {
        "colab": {
          "base_uri": "https://localhost:8080/"
        },
        "id": "utSAQZnS2AfG",
        "outputId": "5be432db-ce39-4152-a990-8f4a6149f3b7"
      },
      "execution_count": null,
      "outputs": [
        {
          "output_type": "stream",
          "name": "stdout",
          "text": [
            "10\n",
            "8\n",
            "6\n",
            "4\n",
            "2\n",
            "0\n"
          ]
        }
      ]
    },
    {
      "cell_type": "code",
      "source": [
        "for i in range(10,-1):\n",
        "  if i%2==0:\n",
        "    print(i)"
      ],
      "metadata": {
        "id": "Ley8ARSK2Jxt"
      },
      "execution_count": null,
      "outputs": []
    },
    {
      "cell_type": "code",
      "source": [
        "range(10)"
      ],
      "metadata": {
        "colab": {
          "base_uri": "https://localhost:8080/"
        },
        "id": "Cy3N3XQs2Rq-",
        "outputId": "8087a11b-411c-45fb-da27-663c935ef98d"
      },
      "execution_count": null,
      "outputs": [
        {
          "output_type": "execute_result",
          "data": {
            "text/plain": [
              "range(0, 10)"
            ]
          },
          "metadata": {},
          "execution_count": 50
        }
      ]
    },
    {
      "cell_type": "code",
      "source": [
        "for i in range(10.00000001):    #'float' object cannot be interpreted as an integer\n",
        "  print(i)"
      ],
      "metadata": {
        "colab": {
          "base_uri": "https://localhost:8080/",
          "height": 159
        },
        "id": "O18C8yI92ktV",
        "outputId": "38e20178-1dc6-4069-916f-3d12861b7174"
      },
      "execution_count": null,
      "outputs": [
        {
          "output_type": "error",
          "ename": "TypeError",
          "evalue": "'float' object cannot be interpreted as an integer",
          "traceback": [
            "\u001b[0;31m---------------------------------------------------------------------------\u001b[0m",
            "\u001b[0;31mTypeError\u001b[0m                                 Traceback (most recent call last)",
            "\u001b[0;32m<ipython-input-51-e9187cbeb47d>\u001b[0m in \u001b[0;36m<cell line: 1>\u001b[0;34m()\u001b[0m\n\u001b[0;32m----> 1\u001b[0;31m \u001b[0;32mfor\u001b[0m \u001b[0mi\u001b[0m \u001b[0;32min\u001b[0m \u001b[0mrange\u001b[0m\u001b[0;34m(\u001b[0m\u001b[0;36m10.0\u001b[0m\u001b[0;34m)\u001b[0m\u001b[0;34m:\u001b[0m\u001b[0;34m\u001b[0m\u001b[0;34m\u001b[0m\u001b[0m\n\u001b[0m\u001b[1;32m      2\u001b[0m   \u001b[0mprint\u001b[0m\u001b[0;34m(\u001b[0m\u001b[0mi\u001b[0m\u001b[0;34m)\u001b[0m\u001b[0;34m\u001b[0m\u001b[0;34m\u001b[0m\u001b[0m\n",
            "\u001b[0;31mTypeError\u001b[0m: 'float' object cannot be interpreted as an integer"
          ]
        }
      ]
    },
    {
      "cell_type": "code",
      "source": [
        "for i in range(7):\n",
        "  if i==4:\n",
        "    break\n",
        "  print(i)"
      ],
      "metadata": {
        "colab": {
          "base_uri": "https://localhost:8080/"
        },
        "id": "tcTmxwHW2tj2",
        "outputId": "bbbdb376-46d2-4cb0-8e4d-05df3e989aac"
      },
      "execution_count": null,
      "outputs": [
        {
          "output_type": "stream",
          "name": "stdout",
          "text": [
            "0\n",
            "1\n",
            "2\n",
            "3\n"
          ]
        }
      ]
    },
    {
      "cell_type": "code",
      "source": [
        "for i in range(7):\n",
        "  if i==4:\n",
        "    continue\n",
        "  print(i)"
      ],
      "metadata": {
        "colab": {
          "base_uri": "https://localhost:8080/"
        },
        "id": "-0t5YSdn28nA",
        "outputId": "a5786b7f-8a86-4de9-fb4d-c5878be138da"
      },
      "execution_count": null,
      "outputs": [
        {
          "output_type": "stream",
          "name": "stdout",
          "text": [
            "0\n",
            "1\n",
            "2\n",
            "3\n",
            "5\n",
            "6\n"
          ]
        }
      ]
    },
    {
      "cell_type": "code",
      "source": [
        "for i in range(3):\n",
        "  for j in range(3):\n",
        "    print(i,j)"
      ],
      "metadata": {
        "colab": {
          "base_uri": "https://localhost:8080/"
        },
        "id": "EvC3p-IN3T3U",
        "outputId": "18b7ac5b-fb09-4eb3-f3bf-4fda8d77c57d"
      },
      "execution_count": null,
      "outputs": [
        {
          "output_type": "stream",
          "name": "stdout",
          "text": [
            "0 0\n",
            "0 1\n",
            "0 2\n",
            "1 0\n",
            "1 1\n",
            "1 2\n",
            "2 0\n",
            "2 1\n",
            "2 2\n"
          ]
        }
      ]
    },
    {
      "cell_type": "code",
      "source": [
        "for i in range (1, 5, 1):\n",
        "  print (i)"
      ],
      "metadata": {
        "colab": {
          "base_uri": "https://localhost:8080/"
        },
        "id": "MMbVB7cc3j-a",
        "outputId": "743f6e7d-b79f-4b78-feb2-0531e5ee6e6c"
      },
      "execution_count": null,
      "outputs": [
        {
          "output_type": "stream",
          "name": "stdout",
          "text": [
            "1\n",
            "2\n",
            "3\n",
            "4\n"
          ]
        }
      ]
    },
    {
      "cell_type": "code",
      "source": [
        "for i in range(5):\n",
        "  print (i)"
      ],
      "metadata": {
        "colab": {
          "base_uri": "https://localhost:8080/"
        },
        "id": "eDxoUDcm7uvl",
        "outputId": "73d8e2ea-64f7-46f0-d399-b2b63cfe0d8b"
      },
      "execution_count": null,
      "outputs": [
        {
          "output_type": "stream",
          "name": "stdout",
          "text": [
            "0\n",
            "1\n",
            "2\n",
            "3\n",
            "4\n"
          ]
        }
      ]
    },
    {
      "cell_type": "code",
      "source": [
        "'''Create a program that displays numbers starting from 20 to 40 with a difference of 5 in a single line\n",
        "using end parameter of print function.'''\n",
        "\n",
        "for a in range(20,41):\n",
        "  if a % 5 ==0:\n",
        "    print(a, end=\",\")"
      ],
      "metadata": {
        "colab": {
          "base_uri": "https://localhost:8080/"
        },
        "id": "HG9bqTE-8a1B",
        "outputId": "2fb3f3d2-6d4e-44c1-caef-9b2621989d90"
      },
      "execution_count": null,
      "outputs": [
        {
          "output_type": "stream",
          "name": "stdout",
          "text": [
            "20,25,30,35,40,"
          ]
        }
      ]
    },
    {
      "cell_type": "code",
      "source": [
        "for a in range(20,41,5):\n",
        "  print(a, end=\",\")"
      ],
      "metadata": {
        "colab": {
          "base_uri": "https://localhost:8080/"
        },
        "id": "eJL0jdmM9rZe",
        "outputId": "3d691ec7-9769-4a92-e2b6-4d93f4ab6cc0"
      },
      "execution_count": null,
      "outputs": [
        {
          "output_type": "stream",
          "name": "stdout",
          "text": [
            "20,25,30,35,40,"
          ]
        }
      ]
    },
    {
      "cell_type": "code",
      "source": [
        "for a in range(0,11, +2):\n",
        "  print(a)"
      ],
      "metadata": {
        "colab": {
          "base_uri": "https://localhost:8080/"
        },
        "id": "Y7kKJMbz-gTq",
        "outputId": "969e7ff1-c73a-487e-803f-6ce41be1bcba"
      },
      "execution_count": null,
      "outputs": [
        {
          "output_type": "stream",
          "name": "stdout",
          "text": [
            "0\n",
            "2\n",
            "4\n",
            "6\n",
            "8\n",
            "10\n"
          ]
        }
      ]
    },
    {
      "cell_type": "code",
      "source": [
        "for i in range(1,6):\n",
        "  if i == 4:\n",
        "    break\n",
        "  print (i)"
      ],
      "metadata": {
        "colab": {
          "base_uri": "https://localhost:8080/"
        },
        "id": "8o-trODr_Ivu",
        "outputId": "438d5de6-89fb-4e95-f5be-eef76ca53609"
      },
      "execution_count": null,
      "outputs": [
        {
          "output_type": "stream",
          "name": "stdout",
          "text": [
            "1\n",
            "2\n",
            "3\n"
          ]
        }
      ]
    },
    {
      "cell_type": "code",
      "source": [
        "for i in range(1,7):\n",
        "  if i ==3:\n",
        "    continue\n",
        "  print(i)"
      ],
      "metadata": {
        "colab": {
          "base_uri": "https://localhost:8080/"
        },
        "id": "F5EIGKcjATaK",
        "outputId": "56afff45-3fef-41dc-96f2-dc468613bcf9"
      },
      "execution_count": null,
      "outputs": [
        {
          "output_type": "stream",
          "name": "stdout",
          "text": [
            "1\n",
            "2\n",
            "4\n",
            "5\n",
            "6\n"
          ]
        }
      ]
    },
    {
      "cell_type": "code",
      "source": [
        "for i in range(1,7):\n",
        "  if i ==3:\n",
        "    continue\n",
        "  print(i, end = ', ')"
      ],
      "metadata": {
        "colab": {
          "base_uri": "https://localhost:8080/"
        },
        "id": "J18ZM136A05T",
        "outputId": "f692ee26-3c3f-4ced-a4ef-51370973c48d"
      },
      "execution_count": null,
      "outputs": [
        {
          "output_type": "stream",
          "name": "stdout",
          "text": [
            "1, 2, 4, 5, 6, "
          ]
        }
      ]
    },
    {
      "cell_type": "code",
      "source": [
        "for i in range(4):\n",
        "  for j in range(4):\n",
        "    print(i,j)"
      ],
      "metadata": {
        "colab": {
          "base_uri": "https://localhost:8080/"
        },
        "id": "8N7CJE0dBn1p",
        "outputId": "ee87d993-9f40-4aad-ee8b-f98ef0903ab1"
      },
      "execution_count": null,
      "outputs": [
        {
          "output_type": "stream",
          "name": "stdout",
          "text": [
            "0 0\n",
            "0 1\n",
            "0 2\n",
            "0 3\n",
            "1 0\n",
            "1 1\n",
            "1 2\n",
            "1 3\n",
            "2 0\n",
            "2 1\n",
            "2 2\n",
            "2 3\n",
            "3 0\n",
            "3 1\n",
            "3 2\n",
            "3 3\n"
          ]
        }
      ]
    },
    {
      "cell_type": "code",
      "source": [
        "i = 0\n",
        "while i<=4:\n",
        "  print(i)"
      ],
      "metadata": {
        "id": "7n7QECM5CUyv"
      },
      "execution_count": null,
      "outputs": []
    },
    {
      "cell_type": "code",
      "source": [
        "while True:               #infinite loop, use for without condition, because conditionn is always true.\n",
        "  print('Hi')"
      ],
      "metadata": {
        "id": "ZSWBMRSqDXMS"
      },
      "execution_count": null,
      "outputs": []
    },
    {
      "cell_type": "code",
      "source": [
        "for i in range(20,0,-2):\n",
        "  print (i,end=',')"
      ],
      "metadata": {
        "colab": {
          "base_uri": "https://localhost:8080/"
        },
        "id": "eoQcQbCpFNJh",
        "outputId": "10d824a4-9b1f-4d26-948d-7437e07f9ad4"
      },
      "execution_count": null,
      "outputs": [
        {
          "output_type": "stream",
          "name": "stdout",
          "text": [
            "20,18,16,14,12,10,8,6,4,2,"
          ]
        }
      ]
    },
    {
      "cell_type": "code",
      "source": [
        "i = 20\n",
        "while i > 0:\n",
        "  print (i, end =' , ')\n",
        "  i-=2"
      ],
      "metadata": {
        "colab": {
          "base_uri": "https://localhost:8080/"
        },
        "id": "dPLFUiS3M1YD",
        "outputId": "999a7cc1-f6b3-4d1f-b1c6-69f679fc142f"
      },
      "execution_count": null,
      "outputs": [
        {
          "output_type": "stream",
          "name": "stdout",
          "text": [
            "20 , 18 , 16 , 14 , 12 , 10 , 8 , 6 , 4 , 2 , "
          ]
        }
      ]
    },
    {
      "cell_type": "code",
      "source": [
        "for i in range(20,41,5):\n",
        "\n",
        "   print(i,end = ',')"
      ],
      "metadata": {
        "colab": {
          "base_uri": "https://localhost:8080/"
        },
        "id": "OHx964b0HaVh",
        "outputId": "ffddfec4-7369-4d10-8c90-d7e679b07fa2"
      },
      "execution_count": null,
      "outputs": [
        {
          "output_type": "stream",
          "name": "stdout",
          "text": [
            "20,25,30,35,40,"
          ]
        }
      ]
    },
    {
      "cell_type": "code",
      "source": [
        "i =20\n",
        "while i<41:\n",
        "  print(i, end = ',')\n",
        "  i+=5"
      ],
      "metadata": {
        "colab": {
          "base_uri": "https://localhost:8080/"
        },
        "id": "qDAXaQRcJ-7t",
        "outputId": "db9ae095-e2f7-4791-d636-928cd9b7bd41"
      },
      "execution_count": null,
      "outputs": [
        {
          "output_type": "stream",
          "name": "stdout",
          "text": [
            "20,25,30,35,40,"
          ]
        }
      ]
    },
    {
      "cell_type": "code",
      "source": [
        "for i in range(1, 6):\n",
        "  print(i**3,end=',')"
      ],
      "metadata": {
        "colab": {
          "base_uri": "https://localhost:8080/"
        },
        "id": "z7z51EtKKYEi",
        "outputId": "86be6ba6-6967-4d9a-beb5-dbe97365083b"
      },
      "execution_count": null,
      "outputs": [
        {
          "output_type": "stream",
          "name": "stdout",
          "text": [
            "1,8,27,64,125,"
          ]
        }
      ]
    },
    {
      "cell_type": "code",
      "source": [
        "'''Create a program to display the cube of first 5 numbers in single line using end parameter of print function.\n",
        "Note : Use both the loops.'''\n",
        "\n",
        "i = 1\n",
        "while i<6:\n",
        "  print(i**3, end = ' , ')\n",
        "  i+=1"
      ],
      "metadata": {
        "colab": {
          "base_uri": "https://localhost:8080/"
        },
        "id": "jc6T2g9KPJ4Z",
        "outputId": "472ffb9a-4809-48fd-b7b5-c8e3b9de51e0"
      },
      "execution_count": null,
      "outputs": [
        {
          "output_type": "stream",
          "name": "stdout",
          "text": [
            "1 , 8 , 27 , 64 , 125 , "
          ]
        }
      ]
    },
    {
      "cell_type": "code",
      "source": [
        "#Create a program to display the factorial of a number.\n",
        "# Solution using while loop and positive step value :\n",
        "n = int(input('Enter any number greater than 0 to calculate its factorial : '))\n",
        "fact = 1\n",
        "for i in range(1,n+1):\n",
        "  fact = fact * i\n",
        "  print(f'factorial of {n} : {fact}')"
      ],
      "metadata": {
        "id": "QSH_prIzQDt6",
        "colab": {
          "base_uri": "https://localhost:8080/"
        },
        "outputId": "a8e3f128-c2c0-4523-d4c5-e9a31cb8df55"
      },
      "execution_count": null,
      "outputs": [
        {
          "output_type": "stream",
          "name": "stdout",
          "text": [
            "Enter any number greater than 0 to calculate its factorial : 5\n",
            "factorial of 5 : 1\n",
            "factorial of 5 : 2\n",
            "factorial of 5 : 6\n",
            "factorial of 5 : 24\n",
            "factorial of 5 : 120\n"
          ]
        }
      ]
    },
    {
      "cell_type": "code",
      "source": [
        "n = int(input('enter any number greater than 0 to calculate its factorial :'))\n",
        "fact = 1\n",
        "i = 1\n",
        "while n >= i:\n",
        "  fact = fact * i\n",
        "  i = i + 1\n",
        "print(f'factorial of {n} : {fact}')"
      ],
      "metadata": {
        "colab": {
          "base_uri": "https://localhost:8080/"
        },
        "id": "Zvn5slWJsXg1",
        "outputId": "93db3ff0-71f7-453f-e27a-41d68a9bec70"
      },
      "execution_count": null,
      "outputs": [
        {
          "output_type": "stream",
          "name": "stdout",
          "text": [
            "enter any number greater than 0 to calculate its factorial :5\n",
            "factorial of 5 : 120\n"
          ]
        }
      ]
    },
    {
      "cell_type": "code",
      "source": [
        "# Solution using while loop and negative step value :\n",
        "n = int(input('enter any number greater than 0 to calculated its factorial : '))\n",
        "fact = 1\n",
        "i = n\n",
        "while i > 0:\n",
        "    fact = fact * i\n",
        "    i = i - 1\n",
        "print(f'Factorial of {n} : {fact}')"
      ],
      "metadata": {
        "colab": {
          "base_uri": "https://localhost:8080/"
        },
        "id": "A40ESQhYu6lw",
        "outputId": "3164023a-c556-4e25-b7d3-5a030771e8fc"
      },
      "execution_count": null,
      "outputs": [
        {
          "output_type": "stream",
          "name": "stdout",
          "text": [
            "enter any number greater than 0 to calculated its factorial : 5\n",
            "Factorial of 5 : 120\n"
          ]
        }
      ]
    },
    {
      "cell_type": "code",
      "source": [
        "n = int(input('Enter any number greater than 0 to calculated its factorial : '))\n",
        "fact = 1\n",
        "for i in range(n, 0, -1):\n",
        "  fact = fact * i\n",
        "print(f'factorial of {n} : {fact}')"
      ],
      "metadata": {
        "colab": {
          "base_uri": "https://localhost:8080/"
        },
        "id": "oX7C_WcVxqYf",
        "outputId": "df097afd-def9-4d7d-bbca-d281fed8d875"
      },
      "execution_count": null,
      "outputs": [
        {
          "output_type": "stream",
          "name": "stdout",
          "text": [
            "Enter any number greater than 0 to calculated its factorial : 5\n",
            "factorial of 5 : 120\n"
          ]
        }
      ]
    },
    {
      "cell_type": "code",
      "source": [
        "'''Create a program that keeps on accepting input from user until 0 is entered\n",
        "and print the sum of all the numbers entered at the end.'''\n",
        "\n",
        "number = ''\n",
        "sum = 0\n",
        "while number != 0:\n",
        "  number = int(input('enter number : '))\n",
        "  sum = number + sum\n",
        "print ('Total sum', sum)"
      ],
      "metadata": {
        "colab": {
          "base_uri": "https://localhost:8080/"
        },
        "id": "ksvoArft6BLe",
        "outputId": "8f577b28-194a-4570-8c9f-ad992fdd381a"
      },
      "execution_count": null,
      "outputs": [
        {
          "output_type": "stream",
          "name": "stdout",
          "text": [
            "enter number :1\n",
            "enter number :5\n",
            "enter number :8\n",
            "enter number :0\n",
            "Total sum 14\n"
          ]
        }
      ]
    },
    {
      "cell_type": "code",
      "source": [
        "#Create a program to print the following series for 'n' terms where 'n' is the number taken from the user.\n",
        "\n",
        "n = int(input('Enter the number uptill wll be series displayed : '))\n",
        "for i in range(1, n):\n",
        "  print ('2'*i, end=\",\")\n",
        "print('2'*n)"
      ],
      "metadata": {
        "colab": {
          "base_uri": "https://localhost:8080/"
        },
        "id": "AvgBjXl97mME",
        "outputId": "c77c77c6-9ad7-4610-9a73-6eb5f939229a"
      },
      "execution_count": null,
      "outputs": [
        {
          "output_type": "stream",
          "name": "stdout",
          "text": [
            "Enter the number uptill wll be series displayed : 4\n",
            "2,22,222,2222\n"
          ]
        }
      ]
    },
    {
      "cell_type": "code",
      "source": [
        "i = 6\n",
        "while i < 17:\n",
        "  if i % 5 == 0:\n",
        "    print (i)\n",
        "    break\n",
        "  i = i + 1"
      ],
      "metadata": {
        "colab": {
          "base_uri": "https://localhost:8080/"
        },
        "id": "XMbPHP82DD1h",
        "outputId": "7971db49-3c5e-4f72-ce06-9bf4c29b4faf"
      },
      "execution_count": null,
      "outputs": [
        {
          "output_type": "stream",
          "name": "stdout",
          "text": [
            "10\n"
          ]
        }
      ]
    },
    {
      "cell_type": "code",
      "source": [
        "for i in range(6,16):\n",
        "  if i % 5 == 0:\n",
        "      print(i)\n",
        "      break"
      ],
      "metadata": {
        "colab": {
          "base_uri": "https://localhost:8080/"
        },
        "id": "qchQu2zOGGNZ",
        "outputId": "52285972-f6aa-4e3b-c50d-d2247e428dd8"
      },
      "execution_count": null,
      "outputs": [
        {
          "output_type": "stream",
          "name": "stdout",
          "text": [
            "10\n"
          ]
        }
      ]
    },
    {
      "cell_type": "code",
      "source": [
        "#Create a program that replicates the following output :\n",
        "\n",
        "i = 2\n",
        "#while i <= 4:     #Table upto ....\n",
        "print(f'Multiplication Table : {i}')\n",
        "j = 1\n",
        "while j <= 10:\n",
        "     print(f'{i} x {j} = {i * j}')\n",
        "     j = j + 1\n",
        "print('\\t')\n",
        "i = i + 1"
      ],
      "metadata": {
        "id": "_5vJY720G3LQ",
        "colab": {
          "base_uri": "https://localhost:8080/"
        },
        "outputId": "ca82fa39-2ae4-44da-bea4-d8a243009009"
      },
      "execution_count": null,
      "outputs": [
        {
          "output_type": "stream",
          "name": "stdout",
          "text": [
            "Multiplication Table : 2\n",
            "2 x 1 = 2\n",
            "2 x 2 = 4\n",
            "2 x 3 = 6\n",
            "2 x 4 = 8\n",
            "2 x 5 = 10\n",
            "2 x 6 = 12\n",
            "2 x 7 = 14\n",
            "2 x 8 = 16\n",
            "2 x 9 = 18\n",
            "2 x 10 = 20\n",
            "\t\n"
          ]
        }
      ]
    },
    {
      "cell_type": "code",
      "source": [
        "for i in range (2,3):\n",
        "  print(f'Multiplication Table : {i}')\n",
        "  for j in range(1,11):\n",
        "    print(f'{i}x{j} = {i * j}')\n",
        "  print('\\t')\n"
      ],
      "metadata": {
        "colab": {
          "base_uri": "https://localhost:8080/"
        },
        "id": "2dFnCdjv6Yk3",
        "outputId": "32184632-3aa3-4c34-8a9c-9b749ead3a42"
      },
      "execution_count": null,
      "outputs": [
        {
          "output_type": "stream",
          "name": "stdout",
          "text": [
            "Multiplication Table : 2\n",
            "2x1 = 2\n",
            "2x2 = 4\n",
            "2x3 = 6\n",
            "2x4 = 8\n",
            "2x5 = 10\n",
            "2x6 = 12\n",
            "2x7 = 14\n",
            "2x8 = 16\n",
            "2x9 = 18\n",
            "2x10 = 20\n",
            "\t\n"
          ]
        }
      ]
    },
    {
      "cell_type": "code",
      "source": [
        "                          # Test Que.\n",
        "\n",
        "for i in range(5,0,-1):   #The `range()` function specifies the start, stop, and step values for the iteration.\n",
        "  print(i, end = ',')"
      ],
      "metadata": {
        "colab": {
          "base_uri": "https://localhost:8080/"
        },
        "id": "9OGRSHcbsftH",
        "outputId": "d00202f6-c346-4e57-b0e8-48727cb0fb3a"
      },
      "execution_count": null,
      "outputs": [
        {
          "output_type": "stream",
          "name": "stdout",
          "text": [
            "5,4,3,2,1,"
          ]
        }
      ]
    },
    {
      "cell_type": "code",
      "source": [
        "z = 3\n",
        "while z < 10:\n",
        "  print (z)\n",
        "  z *= 2    # - z *= 2 : Multiplies the value of `z` by 2, effectively doubling it.\n",
        "            # The loop terminates when `z` becomes 12 because `12 < 10` evaluates to false, breaking the loop."
      ],
      "metadata": {
        "id": "XnkOGsZgSUYk",
        "colab": {
          "base_uri": "https://localhost:8080/"
        },
        "outputId": "fec6b096-884e-4bb5-d56b-5d5f1998c637"
      },
      "execution_count": null,
      "outputs": [
        {
          "output_type": "stream",
          "name": "stdout",
          "text": [
            "3\n",
            "6\n"
          ]
        }
      ]
    },
    {
      "cell_type": "code",
      "source": [
        "z = 5           #infinite loop\n",
        "while z > 0:\n",
        " print(z)"
      ],
      "metadata": {
        "id": "zn971ApskVSe"
      },
      "execution_count": null,
      "outputs": []
    },
    {
      "cell_type": "code",
      "source": [
        "b = 2\n",
        "for i in range (b):\n",
        "  print (i)"
      ],
      "metadata": {
        "colab": {
          "base_uri": "https://localhost:8080/"
        },
        "id": "bGG1Nbkit0VG",
        "outputId": "44ea30b8-3406-429c-ae11-66c29438dde6"
      },
      "execution_count": null,
      "outputs": [
        {
          "output_type": "stream",
          "name": "stdout",
          "text": [
            "0\n",
            "1\n"
          ]
        }
      ]
    },
    {
      "cell_type": "code",
      "source": [
        "y = 10\n",
        "while y > 0:\n",
        "  print (y,end = \",\")\n",
        "  y -= 2"
      ],
      "metadata": {
        "colab": {
          "base_uri": "https://localhost:8080/"
        },
        "id": "rGuoYB0xubI7",
        "outputId": "97f792cc-f3b3-4b70-ab19-6190dd8615ef"
      },
      "execution_count": null,
      "outputs": [
        {
          "output_type": "stream",
          "name": "stdout",
          "text": [
            "10,8,6,4,2,"
          ]
        }
      ]
    },
    {
      "cell_type": "code",
      "source": [
        "d = 5\n",
        "while d > 0:\n",
        "  if d == 3:            # - `if d == 3:`: Checks if the value of `d` is equal to 3.\n",
        "                        # If the condition evaluates to `True`, the code inside the `if` statement will be executed.\n",
        "    d -= 1              # `d -= 1`: Decrements the value of `d` by 1.\n",
        "    continue\n",
        "  print(d)\n",
        "  d -= 1"
      ],
      "metadata": {
        "colab": {
          "base_uri": "https://localhost:8080/"
        },
        "id": "fKMYM2RbvCA_",
        "outputId": "560d349b-d01c-4778-a91e-befa54261211"
      },
      "execution_count": null,
      "outputs": [
        {
          "output_type": "stream",
          "name": "stdout",
          "text": [
            "5\n",
            "4\n",
            "2\n",
            "1\n"
          ]
        }
      ]
    },
    {
      "cell_type": "code",
      "source": [
        "x = 1\n",
        "while x <= 5:\n",
        "  print(x, end = \"+\")\n",
        "  x += 1"
      ],
      "metadata": {
        "colab": {
          "base_uri": "https://localhost:8080/"
        },
        "id": "h-_wHxgXwRlR",
        "outputId": "060f20ab-6070-4b99-d26d-413038c318b8"
      },
      "execution_count": null,
      "outputs": [
        {
          "output_type": "stream",
          "name": "stdout",
          "text": [
            "1+2+3+4+5+"
          ]
        }
      ]
    },
    {
      "cell_type": "code",
      "source": [
        "x = 0\n",
        "while x < 5:\n",
        "  print(x)\n",
        "  x += 1"
      ],
      "metadata": {
        "colab": {
          "base_uri": "https://localhost:8080/"
        },
        "id": "xWwOCgzqxHZZ",
        "outputId": "dd71113c-41a0-4830-d9f5-4fdb9e52a508"
      },
      "execution_count": null,
      "outputs": [
        {
          "output_type": "stream",
          "name": "stdout",
          "text": [
            "0\n",
            "1\n",
            "2\n",
            "3\n",
            "4\n"
          ]
        }
      ]
    },
    {
      "cell_type": "code",
      "source": [
        "a = 2\n",
        "b = 3\n",
        "result = 1\n",
        "while b > 0:\n",
        "  result *= a\n",
        "  b -= 1\n",
        "print (result)"
      ],
      "metadata": {
        "colab": {
          "base_uri": "https://localhost:8080/"
        },
        "id": "UtUYwlE8k3LW",
        "outputId": "9c2a6fe5-f813-4806-be4b-65bde5aec02a"
      },
      "execution_count": null,
      "outputs": [
        {
          "output_type": "stream",
          "name": "stdout",
          "text": [
            "8\n"
          ]
        }
      ]
    },
    {
      "cell_type": "code",
      "source": [
        "i = 10\n",
        "while i >= 0:\n",
        "  if i % 2 ==0:\n",
        "    i -= 1\n",
        "    continue\n",
        "  print(i)\n",
        "  i -= 1"
      ],
      "metadata": {
        "colab": {
          "base_uri": "https://localhost:8080/"
        },
        "id": "KdnB4svXyO7u",
        "outputId": "18dc4c94-d980-406e-8e6b-313452b3c664"
      },
      "execution_count": null,
      "outputs": [
        {
          "output_type": "stream",
          "name": "stdout",
          "text": [
            "9\n",
            "7\n",
            "5\n",
            "3\n",
            "1\n"
          ]
        }
      ]
    },
    {
      "cell_type": "code",
      "source": [
        "string = \"Python\"         #  Assigns the string value \"Python\" to the variable string.\n",
        "for char in string:\n",
        "  print(char)"
      ],
      "metadata": {
        "colab": {
          "base_uri": "https://localhost:8080/"
        },
        "id": "IzlpEFxToHnI",
        "outputId": "464e4f06-78a1-45bf-8f25-a168b3fbc02a"
      },
      "execution_count": null,
      "outputs": [
        {
          "output_type": "stream",
          "name": "stdout",
          "text": [
            "P\n",
            "y\n",
            "t\n",
            "h\n",
            "o\n",
            "n\n"
          ]
        }
      ]
    },
    {
      "cell_type": "code",
      "source": [
        "for i in range (1,6,2):\n",
        "  print(i)"
      ],
      "metadata": {
        "colab": {
          "base_uri": "https://localhost:8080/"
        },
        "id": "dr-lYu9FpcPe",
        "outputId": "60d5883e-80f1-4c52-aaa5-f6160d8a782b"
      },
      "execution_count": null,
      "outputs": [
        {
          "output_type": "stream",
          "name": "stdout",
          "text": [
            "1\n",
            "3\n",
            "5\n"
          ]
        }
      ]
    },
    {
      "cell_type": "code",
      "source": [
        "for i in range(4):         # The outer loop runs 4 times, assigning the values 0, 1, 2, and 3 to the loop variable `i`.\n",
        " for j in range(2):        # The inner loop runs 2 times, assigning the values 0 and 1 to the loop variable `i`.\n",
        "  print(i, j, end=\", \")    #This statement prints the values of the loop variable `i` twice, separated by a comma and a space."
      ],
      "metadata": {
        "id": "PlVusBF_qh3s",
        "colab": {
          "base_uri": "https://localhost:8080/"
        },
        "outputId": "2a1847d4-b520-4488-83d6-165af1374b76"
      },
      "execution_count": null,
      "outputs": [
        {
          "output_type": "stream",
          "name": "stdout",
          "text": [
            "0 0, 0 1, 1 0, 1 1, 2 0, 2 1, 3 0, 3 1, "
          ]
        }
      ]
    },
    {
      "cell_type": "code",
      "source": [
        "c = 7\n",
        "while c > 0:\n",
        "  print(c)\n",
        "  if c==4:    #the condition `c == 4` evaluates to `True`, and the `break` statement is executed, terminating the loop immediately.\n",
        "    break\n",
        "  c -= 1"
      ],
      "metadata": {
        "colab": {
          "base_uri": "https://localhost:8080/"
        },
        "id": "M_d-bXqL0gbi",
        "outputId": "bd0d400f-9e1e-4d5b-f171-47f5338e6027"
      },
      "execution_count": null,
      "outputs": [
        {
          "output_type": "stream",
          "name": "stdout",
          "text": [
            "7\n",
            "6\n",
            "5\n",
            "4\n"
          ]
        }
      ]
    },
    {
      "cell_type": "code",
      "source": [
        "text = \"Hello world!\"\n",
        "for char in text:\n",
        "  if char == \"o\":\n",
        "    break\n",
        "  print (char)"
      ],
      "metadata": {
        "colab": {
          "base_uri": "https://localhost:8080/"
        },
        "id": "uPeWOB8O1oKY",
        "outputId": "0e84f39b-eb70-4e85-cc79-ae3564eff6b1"
      },
      "execution_count": null,
      "outputs": [
        {
          "output_type": "stream",
          "name": "stdout",
          "text": [
            "H\n",
            "e\n",
            "l\n",
            "l\n"
          ]
        }
      ]
    },
    {
      "cell_type": "code",
      "source": [],
      "metadata": {
        "id": "zlqv7l6p2mQQ"
      },
      "execution_count": null,
      "outputs": []
    }
  ]
}