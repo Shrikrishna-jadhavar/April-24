{
 "cells": [
  {
   "cell_type": "markdown",
   "id": "bf222574",
   "metadata": {},
   "source": [
    "**Q.1) Write a Python program to check if a given number n is positive, negative, or zero.**"
   ]
  },
  {
   "cell_type": "code",
   "execution_count": null,
   "id": "f24a9c20",
   "metadata": {},
   "outputs": [],
   "source": []
  },
  {
   "cell_type": "markdown",
   "id": "f8547f6a",
   "metadata": {},
   "source": [
    "**Q.2) Write a Python program to find the maximum between three numbers a , b and c**"
   ]
  },
  {
   "cell_type": "code",
   "execution_count": null,
   "id": "4cde943c",
   "metadata": {},
   "outputs": [],
   "source": []
  },
  {
   "cell_type": "markdown",
   "id": "32649fdb",
   "metadata": {},
   "source": [
    "**Q.3) Write a Python program that takes a student's score as input and prints their corresponding letter grade based on the following grading scale:90 or above: A , 80-89: B , 70-79: C , 60-69: D , Below 60: F**"
   ]
  },
  {
   "cell_type": "code",
   "execution_count": null,
   "id": "7392b6d0",
   "metadata": {},
   "outputs": [],
   "source": []
  },
  {
   "cell_type": "markdown",
   "id": "5c26c527",
   "metadata": {},
   "source": [
    "**Q.4) Absolute Value Calculator Implement a Python program that takes a number as input and prints its absolute value.**\n",
    "###### Absolute values mean the positive version of a number"
   ]
  },
  {
   "cell_type": "code",
   "execution_count": null,
   "id": "e043ed3c",
   "metadata": {},
   "outputs": [],
   "source": []
  },
  {
   "cell_type": "markdown",
   "id": "4653c934",
   "metadata": {},
   "source": [
    "**Q5) Write a Python program that takes two numbers and an operator (+, -, *, /) as input and performs the corresponding arithmetic operation.**"
   ]
  },
  {
   "cell_type": "code",
   "execution_count": null,
   "id": "b2ab78b9",
   "metadata": {},
   "outputs": [],
   "source": []
  },
  {
   "cell_type": "markdown",
   "id": "9557b5c6",
   "metadata": {},
   "source": [
    "**Q6) Absolute Difference Write a Python program that takes two numbers as input and calculates the absolute difference between them without using the inbuilt functions.**"
   ]
  },
  {
   "cell_type": "code",
   "execution_count": null,
   "id": "acd0fda9",
   "metadata": {},
   "outputs": [],
   "source": []
  },
  {
   "cell_type": "markdown",
   "id": "98ecb43a",
   "metadata": {},
   "source": [
    "**Q.7) Implement a Python program that takes three angles of a triangle as input and determines whether it is an acute, obtuse, or right triangle.**"
   ]
  },
  {
   "cell_type": "code",
   "execution_count": null,
   "id": "d3be4f81",
   "metadata": {},
   "outputs": [],
   "source": []
  },
  {
   "cell_type": "markdown",
   "id": "2e4497d9",
   "metadata": {},
   "source": [
    "**Q.8) Quadrant Determiner Implement a Python program that takes the coordinates (x, y) of a point and determines which quadrant it belongs to (1st, 2nd, 3rd, or 4th) or if it lies on an axis.**\n"
   ]
  },
  {
   "cell_type": "code",
   "execution_count": null,
   "id": "5177918b",
   "metadata": {},
   "outputs": [],
   "source": []
  }
 ],
 "metadata": {
  "kernelspec": {
   "display_name": "Python 3 (ipykernel)",
   "language": "python",
   "name": "python3"
  },
  "language_info": {
   "codemirror_mode": {
    "name": "ipython",
    "version": 3
   },
   "file_extension": ".py",
   "mimetype": "text/x-python",
   "name": "python",
   "nbconvert_exporter": "python",
   "pygments_lexer": "ipython3",
   "version": "3.9.7"
  }
 },
 "nbformat": 4,
 "nbformat_minor": 5
}
